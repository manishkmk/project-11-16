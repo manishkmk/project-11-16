{
 "cells": [
  {
   "cell_type": "markdown",
   "metadata": {},
   "source": [
    "# Building Machine Learning Pipelines: Data Analysis Phase"
   ]
  },
  {
   "cell_type": "code",
   "execution_count": 1,
   "metadata": {},
   "outputs": [],
   "source": [
    "import pandas as pd\n",
    "import numpy as np\n",
    "import seaborn as sns\n",
    "import matplotlib.pyplot as plt\n",
    "%matplotlib inline\n",
    "import warnings\n",
    "warnings.filterwarnings('ignore')\n",
    "\n",
    "#Dispaly all the columns of the DataFrame\n",
    "pd.pandas.set_option(\"display.max_columns\",None)"
   ]
  },
  {
   "cell_type": "code",
   "execution_count": 2,
   "metadata": {},
   "outputs": [],
   "source": [
    "auto=pd.read_csv('auto-mpg.csv')"
   ]
  },
  {
   "cell_type": "code",
   "execution_count": 3,
   "metadata": {},
   "outputs": [
    {
     "data": {
      "text/html": [
       "<div>\n",
       "<style scoped>\n",
       "    .dataframe tbody tr th:only-of-type {\n",
       "        vertical-align: middle;\n",
       "    }\n",
       "\n",
       "    .dataframe tbody tr th {\n",
       "        vertical-align: top;\n",
       "    }\n",
       "\n",
       "    .dataframe thead th {\n",
       "        text-align: right;\n",
       "    }\n",
       "</style>\n",
       "<table border=\"1\" class=\"dataframe\">\n",
       "  <thead>\n",
       "    <tr style=\"text-align: right;\">\n",
       "      <th></th>\n",
       "      <th>mpg</th>\n",
       "      <th>cylinders</th>\n",
       "      <th>displacement</th>\n",
       "      <th>horsepower</th>\n",
       "      <th>weight</th>\n",
       "      <th>acceleration</th>\n",
       "      <th>model year</th>\n",
       "      <th>origin</th>\n",
       "      <th>car name</th>\n",
       "    </tr>\n",
       "  </thead>\n",
       "  <tbody>\n",
       "    <tr>\n",
       "      <th>0</th>\n",
       "      <td>18.0</td>\n",
       "      <td>8</td>\n",
       "      <td>307.0</td>\n",
       "      <td>130</td>\n",
       "      <td>3504</td>\n",
       "      <td>12.0</td>\n",
       "      <td>70</td>\n",
       "      <td>1</td>\n",
       "      <td>chevrolet chevelle malibu</td>\n",
       "    </tr>\n",
       "    <tr>\n",
       "      <th>1</th>\n",
       "      <td>15.0</td>\n",
       "      <td>8</td>\n",
       "      <td>350.0</td>\n",
       "      <td>165</td>\n",
       "      <td>3693</td>\n",
       "      <td>11.5</td>\n",
       "      <td>70</td>\n",
       "      <td>1</td>\n",
       "      <td>buick skylark 320</td>\n",
       "    </tr>\n",
       "    <tr>\n",
       "      <th>2</th>\n",
       "      <td>18.0</td>\n",
       "      <td>8</td>\n",
       "      <td>318.0</td>\n",
       "      <td>150</td>\n",
       "      <td>3436</td>\n",
       "      <td>11.0</td>\n",
       "      <td>70</td>\n",
       "      <td>1</td>\n",
       "      <td>plymouth satellite</td>\n",
       "    </tr>\n",
       "    <tr>\n",
       "      <th>3</th>\n",
       "      <td>16.0</td>\n",
       "      <td>8</td>\n",
       "      <td>304.0</td>\n",
       "      <td>150</td>\n",
       "      <td>3433</td>\n",
       "      <td>12.0</td>\n",
       "      <td>70</td>\n",
       "      <td>1</td>\n",
       "      <td>amc rebel sst</td>\n",
       "    </tr>\n",
       "    <tr>\n",
       "      <th>4</th>\n",
       "      <td>17.0</td>\n",
       "      <td>8</td>\n",
       "      <td>302.0</td>\n",
       "      <td>140</td>\n",
       "      <td>3449</td>\n",
       "      <td>10.5</td>\n",
       "      <td>70</td>\n",
       "      <td>1</td>\n",
       "      <td>ford torino</td>\n",
       "    </tr>\n",
       "  </tbody>\n",
       "</table>\n",
       "</div>"
      ],
      "text/plain": [
       "    mpg  cylinders  displacement horsepower  weight  acceleration  model year  \\\n",
       "0  18.0          8         307.0        130    3504          12.0          70   \n",
       "1  15.0          8         350.0        165    3693          11.5          70   \n",
       "2  18.0          8         318.0        150    3436          11.0          70   \n",
       "3  16.0          8         304.0        150    3433          12.0          70   \n",
       "4  17.0          8         302.0        140    3449          10.5          70   \n",
       "\n",
       "   origin                   car name  \n",
       "0       1  chevrolet chevelle malibu  \n",
       "1       1          buick skylark 320  \n",
       "2       1         plymouth satellite  \n",
       "3       1              amc rebel sst  \n",
       "4       1                ford torino  "
      ]
     },
     "execution_count": 3,
     "metadata": {},
     "output_type": "execute_result"
    }
   ],
   "source": [
    "## print the top 5 records\n",
    "auto.head()"
   ]
  },
  {
   "cell_type": "code",
   "execution_count": 4,
   "metadata": {},
   "outputs": [
    {
     "data": {
      "text/html": [
       "<div>\n",
       "<style scoped>\n",
       "    .dataframe tbody tr th:only-of-type {\n",
       "        vertical-align: middle;\n",
       "    }\n",
       "\n",
       "    .dataframe tbody tr th {\n",
       "        vertical-align: top;\n",
       "    }\n",
       "\n",
       "    .dataframe thead th {\n",
       "        text-align: right;\n",
       "    }\n",
       "</style>\n",
       "<table border=\"1\" class=\"dataframe\">\n",
       "  <thead>\n",
       "    <tr style=\"text-align: right;\">\n",
       "      <th></th>\n",
       "      <th>mpg</th>\n",
       "      <th>cylinders</th>\n",
       "      <th>displacement</th>\n",
       "      <th>horsepower</th>\n",
       "      <th>weight</th>\n",
       "      <th>acceleration</th>\n",
       "      <th>model year</th>\n",
       "      <th>origin</th>\n",
       "      <th>car name</th>\n",
       "    </tr>\n",
       "  </thead>\n",
       "  <tbody>\n",
       "    <tr>\n",
       "      <th>393</th>\n",
       "      <td>27.0</td>\n",
       "      <td>4</td>\n",
       "      <td>140.0</td>\n",
       "      <td>86</td>\n",
       "      <td>2790</td>\n",
       "      <td>15.6</td>\n",
       "      <td>82</td>\n",
       "      <td>1</td>\n",
       "      <td>ford mustang gl</td>\n",
       "    </tr>\n",
       "    <tr>\n",
       "      <th>394</th>\n",
       "      <td>44.0</td>\n",
       "      <td>4</td>\n",
       "      <td>97.0</td>\n",
       "      <td>52</td>\n",
       "      <td>2130</td>\n",
       "      <td>24.6</td>\n",
       "      <td>82</td>\n",
       "      <td>2</td>\n",
       "      <td>vw pickup</td>\n",
       "    </tr>\n",
       "    <tr>\n",
       "      <th>395</th>\n",
       "      <td>32.0</td>\n",
       "      <td>4</td>\n",
       "      <td>135.0</td>\n",
       "      <td>84</td>\n",
       "      <td>2295</td>\n",
       "      <td>11.6</td>\n",
       "      <td>82</td>\n",
       "      <td>1</td>\n",
       "      <td>dodge rampage</td>\n",
       "    </tr>\n",
       "    <tr>\n",
       "      <th>396</th>\n",
       "      <td>28.0</td>\n",
       "      <td>4</td>\n",
       "      <td>120.0</td>\n",
       "      <td>79</td>\n",
       "      <td>2625</td>\n",
       "      <td>18.6</td>\n",
       "      <td>82</td>\n",
       "      <td>1</td>\n",
       "      <td>ford ranger</td>\n",
       "    </tr>\n",
       "    <tr>\n",
       "      <th>397</th>\n",
       "      <td>31.0</td>\n",
       "      <td>4</td>\n",
       "      <td>119.0</td>\n",
       "      <td>82</td>\n",
       "      <td>2720</td>\n",
       "      <td>19.4</td>\n",
       "      <td>82</td>\n",
       "      <td>1</td>\n",
       "      <td>chevy s-10</td>\n",
       "    </tr>\n",
       "  </tbody>\n",
       "</table>\n",
       "</div>"
      ],
      "text/plain": [
       "      mpg  cylinders  displacement horsepower  weight  acceleration  \\\n",
       "393  27.0          4         140.0         86    2790          15.6   \n",
       "394  44.0          4          97.0         52    2130          24.6   \n",
       "395  32.0          4         135.0         84    2295          11.6   \n",
       "396  28.0          4         120.0         79    2625          18.6   \n",
       "397  31.0          4         119.0         82    2720          19.4   \n",
       "\n",
       "     model year  origin         car name  \n",
       "393          82       1  ford mustang gl  \n",
       "394          82       2        vw pickup  \n",
       "395          82       1    dodge rampage  \n",
       "396          82       1      ford ranger  \n",
       "397          82       1       chevy s-10  "
      ]
     },
     "execution_count": 4,
     "metadata": {},
     "output_type": "execute_result"
    }
   ],
   "source": [
    "## print the last 5 records\n",
    "auto.tail()"
   ]
  },
  {
   "cell_type": "code",
   "execution_count": 5,
   "metadata": {},
   "outputs": [
    {
     "data": {
      "text/plain": [
       "mpg             float64\n",
       "cylinders         int64\n",
       "displacement    float64\n",
       "horsepower       object\n",
       "weight            int64\n",
       "acceleration    float64\n",
       "model year        int64\n",
       "origin            int64\n",
       "car name         object\n",
       "dtype: object"
      ]
     },
     "execution_count": 5,
     "metadata": {},
     "output_type": "execute_result"
    }
   ],
   "source": [
    "##\n",
    "auto.dtypes"
   ]
  },
  {
   "cell_type": "code",
   "execution_count": 6,
   "metadata": {},
   "outputs": [
    {
     "name": "stdout",
     "output_type": "stream",
     "text": [
      "<class 'pandas.core.frame.DataFrame'>\n",
      "RangeIndex: 398 entries, 0 to 397\n",
      "Data columns (total 9 columns):\n",
      "mpg             398 non-null float64\n",
      "cylinders       398 non-null int64\n",
      "displacement    398 non-null float64\n",
      "horsepower      398 non-null object\n",
      "weight          398 non-null int64\n",
      "acceleration    398 non-null float64\n",
      "model year      398 non-null int64\n",
      "origin          398 non-null int64\n",
      "car name        398 non-null object\n",
      "dtypes: float64(3), int64(4), object(2)\n",
      "memory usage: 28.1+ KB\n"
     ]
    }
   ],
   "source": [
    "auto.info()"
   ]
  },
  {
   "cell_type": "code",
   "execution_count": 7,
   "metadata": {},
   "outputs": [
    {
     "data": {
      "text/plain": [
       "mpg             0.457066\n",
       "cylinders       0.526922\n",
       "displacement    0.719645\n",
       "weight          0.531063\n",
       "acceleration    0.278777\n",
       "model year      0.011535\n",
       "origin          0.923776\n",
       "dtype: float64"
      ]
     },
     "execution_count": 7,
     "metadata": {},
     "output_type": "execute_result"
    }
   ],
   "source": [
    "auto.skew()"
   ]
  },
  {
   "cell_type": "code",
   "execution_count": 8,
   "metadata": {},
   "outputs": [
    {
     "data": {
      "text/plain": [
       "mpg                 61.089611\n",
       "cylinders            2.893415\n",
       "displacement     10872.199152\n",
       "weight          717140.990526\n",
       "acceleration         7.604848\n",
       "model year          13.672443\n",
       "origin               0.643292\n",
       "dtype: float64"
      ]
     },
     "execution_count": 8,
     "metadata": {},
     "output_type": "execute_result"
    }
   ],
   "source": [
    "auto.var()"
   ]
  },
  {
   "cell_type": "code",
   "execution_count": 9,
   "metadata": {},
   "outputs": [
    {
     "data": {
      "text/html": [
       "<div>\n",
       "<style scoped>\n",
       "    .dataframe tbody tr th:only-of-type {\n",
       "        vertical-align: middle;\n",
       "    }\n",
       "\n",
       "    .dataframe tbody tr th {\n",
       "        vertical-align: top;\n",
       "    }\n",
       "\n",
       "    .dataframe thead th {\n",
       "        text-align: right;\n",
       "    }\n",
       "</style>\n",
       "<table border=\"1\" class=\"dataframe\">\n",
       "  <thead>\n",
       "    <tr style=\"text-align: right;\">\n",
       "      <th></th>\n",
       "      <th>mpg</th>\n",
       "      <th>cylinders</th>\n",
       "      <th>displacement</th>\n",
       "      <th>weight</th>\n",
       "      <th>acceleration</th>\n",
       "      <th>model year</th>\n",
       "      <th>origin</th>\n",
       "    </tr>\n",
       "  </thead>\n",
       "  <tbody>\n",
       "    <tr>\n",
       "      <th>count</th>\n",
       "      <td>398.000000</td>\n",
       "      <td>398.000000</td>\n",
       "      <td>398.000000</td>\n",
       "      <td>398.000000</td>\n",
       "      <td>398.000000</td>\n",
       "      <td>398.000000</td>\n",
       "      <td>398.000000</td>\n",
       "    </tr>\n",
       "    <tr>\n",
       "      <th>mean</th>\n",
       "      <td>23.514573</td>\n",
       "      <td>5.454774</td>\n",
       "      <td>193.425879</td>\n",
       "      <td>2970.424623</td>\n",
       "      <td>15.568090</td>\n",
       "      <td>76.010050</td>\n",
       "      <td>1.572864</td>\n",
       "    </tr>\n",
       "    <tr>\n",
       "      <th>std</th>\n",
       "      <td>7.815984</td>\n",
       "      <td>1.701004</td>\n",
       "      <td>104.269838</td>\n",
       "      <td>846.841774</td>\n",
       "      <td>2.757689</td>\n",
       "      <td>3.697627</td>\n",
       "      <td>0.802055</td>\n",
       "    </tr>\n",
       "    <tr>\n",
       "      <th>min</th>\n",
       "      <td>9.000000</td>\n",
       "      <td>3.000000</td>\n",
       "      <td>68.000000</td>\n",
       "      <td>1613.000000</td>\n",
       "      <td>8.000000</td>\n",
       "      <td>70.000000</td>\n",
       "      <td>1.000000</td>\n",
       "    </tr>\n",
       "    <tr>\n",
       "      <th>25%</th>\n",
       "      <td>17.500000</td>\n",
       "      <td>4.000000</td>\n",
       "      <td>104.250000</td>\n",
       "      <td>2223.750000</td>\n",
       "      <td>13.825000</td>\n",
       "      <td>73.000000</td>\n",
       "      <td>1.000000</td>\n",
       "    </tr>\n",
       "    <tr>\n",
       "      <th>50%</th>\n",
       "      <td>23.000000</td>\n",
       "      <td>4.000000</td>\n",
       "      <td>148.500000</td>\n",
       "      <td>2803.500000</td>\n",
       "      <td>15.500000</td>\n",
       "      <td>76.000000</td>\n",
       "      <td>1.000000</td>\n",
       "    </tr>\n",
       "    <tr>\n",
       "      <th>75%</th>\n",
       "      <td>29.000000</td>\n",
       "      <td>8.000000</td>\n",
       "      <td>262.000000</td>\n",
       "      <td>3608.000000</td>\n",
       "      <td>17.175000</td>\n",
       "      <td>79.000000</td>\n",
       "      <td>2.000000</td>\n",
       "    </tr>\n",
       "    <tr>\n",
       "      <th>max</th>\n",
       "      <td>46.600000</td>\n",
       "      <td>8.000000</td>\n",
       "      <td>455.000000</td>\n",
       "      <td>5140.000000</td>\n",
       "      <td>24.800000</td>\n",
       "      <td>82.000000</td>\n",
       "      <td>3.000000</td>\n",
       "    </tr>\n",
       "  </tbody>\n",
       "</table>\n",
       "</div>"
      ],
      "text/plain": [
       "              mpg   cylinders  displacement       weight  acceleration  \\\n",
       "count  398.000000  398.000000    398.000000   398.000000    398.000000   \n",
       "mean    23.514573    5.454774    193.425879  2970.424623     15.568090   \n",
       "std      7.815984    1.701004    104.269838   846.841774      2.757689   \n",
       "min      9.000000    3.000000     68.000000  1613.000000      8.000000   \n",
       "25%     17.500000    4.000000    104.250000  2223.750000     13.825000   \n",
       "50%     23.000000    4.000000    148.500000  2803.500000     15.500000   \n",
       "75%     29.000000    8.000000    262.000000  3608.000000     17.175000   \n",
       "max     46.600000    8.000000    455.000000  5140.000000     24.800000   \n",
       "\n",
       "       model year      origin  \n",
       "count  398.000000  398.000000  \n",
       "mean    76.010050    1.572864  \n",
       "std      3.697627    0.802055  \n",
       "min     70.000000    1.000000  \n",
       "25%     73.000000    1.000000  \n",
       "50%     76.000000    1.000000  \n",
       "75%     79.000000    2.000000  \n",
       "max     82.000000    3.000000  "
      ]
     },
     "execution_count": 9,
     "metadata": {},
     "output_type": "execute_result"
    }
   ],
   "source": [
    "auto.describe()"
   ]
  },
  {
   "cell_type": "code",
   "execution_count": 10,
   "metadata": {},
   "outputs": [
    {
     "data": {
      "text/html": [
       "<div>\n",
       "<style scoped>\n",
       "    .dataframe tbody tr th:only-of-type {\n",
       "        vertical-align: middle;\n",
       "    }\n",
       "\n",
       "    .dataframe tbody tr th {\n",
       "        vertical-align: top;\n",
       "    }\n",
       "\n",
       "    .dataframe thead th {\n",
       "        text-align: right;\n",
       "    }\n",
       "</style>\n",
       "<table border=\"1\" class=\"dataframe\">\n",
       "  <thead>\n",
       "    <tr style=\"text-align: right;\">\n",
       "      <th></th>\n",
       "      <th>mpg</th>\n",
       "      <th>cylinders</th>\n",
       "      <th>displacement</th>\n",
       "      <th>weight</th>\n",
       "      <th>acceleration</th>\n",
       "      <th>model year</th>\n",
       "      <th>origin</th>\n",
       "    </tr>\n",
       "  </thead>\n",
       "  <tbody>\n",
       "    <tr>\n",
       "      <th>mpg</th>\n",
       "      <td>1.000000</td>\n",
       "      <td>-0.775396</td>\n",
       "      <td>-0.804203</td>\n",
       "      <td>-0.831741</td>\n",
       "      <td>0.420289</td>\n",
       "      <td>0.579267</td>\n",
       "      <td>0.563450</td>\n",
       "    </tr>\n",
       "    <tr>\n",
       "      <th>cylinders</th>\n",
       "      <td>-0.775396</td>\n",
       "      <td>1.000000</td>\n",
       "      <td>0.950721</td>\n",
       "      <td>0.896017</td>\n",
       "      <td>-0.505419</td>\n",
       "      <td>-0.348746</td>\n",
       "      <td>-0.562543</td>\n",
       "    </tr>\n",
       "    <tr>\n",
       "      <th>displacement</th>\n",
       "      <td>-0.804203</td>\n",
       "      <td>0.950721</td>\n",
       "      <td>1.000000</td>\n",
       "      <td>0.932824</td>\n",
       "      <td>-0.543684</td>\n",
       "      <td>-0.370164</td>\n",
       "      <td>-0.609409</td>\n",
       "    </tr>\n",
       "    <tr>\n",
       "      <th>weight</th>\n",
       "      <td>-0.831741</td>\n",
       "      <td>0.896017</td>\n",
       "      <td>0.932824</td>\n",
       "      <td>1.000000</td>\n",
       "      <td>-0.417457</td>\n",
       "      <td>-0.306564</td>\n",
       "      <td>-0.581024</td>\n",
       "    </tr>\n",
       "    <tr>\n",
       "      <th>acceleration</th>\n",
       "      <td>0.420289</td>\n",
       "      <td>-0.505419</td>\n",
       "      <td>-0.543684</td>\n",
       "      <td>-0.417457</td>\n",
       "      <td>1.000000</td>\n",
       "      <td>0.288137</td>\n",
       "      <td>0.205873</td>\n",
       "    </tr>\n",
       "    <tr>\n",
       "      <th>model year</th>\n",
       "      <td>0.579267</td>\n",
       "      <td>-0.348746</td>\n",
       "      <td>-0.370164</td>\n",
       "      <td>-0.306564</td>\n",
       "      <td>0.288137</td>\n",
       "      <td>1.000000</td>\n",
       "      <td>0.180662</td>\n",
       "    </tr>\n",
       "    <tr>\n",
       "      <th>origin</th>\n",
       "      <td>0.563450</td>\n",
       "      <td>-0.562543</td>\n",
       "      <td>-0.609409</td>\n",
       "      <td>-0.581024</td>\n",
       "      <td>0.205873</td>\n",
       "      <td>0.180662</td>\n",
       "      <td>1.000000</td>\n",
       "    </tr>\n",
       "  </tbody>\n",
       "</table>\n",
       "</div>"
      ],
      "text/plain": [
       "                   mpg  cylinders  displacement    weight  acceleration  \\\n",
       "mpg           1.000000  -0.775396     -0.804203 -0.831741      0.420289   \n",
       "cylinders    -0.775396   1.000000      0.950721  0.896017     -0.505419   \n",
       "displacement -0.804203   0.950721      1.000000  0.932824     -0.543684   \n",
       "weight       -0.831741   0.896017      0.932824  1.000000     -0.417457   \n",
       "acceleration  0.420289  -0.505419     -0.543684 -0.417457      1.000000   \n",
       "model year    0.579267  -0.348746     -0.370164 -0.306564      0.288137   \n",
       "origin        0.563450  -0.562543     -0.609409 -0.581024      0.205873   \n",
       "\n",
       "              model year    origin  \n",
       "mpg             0.579267  0.563450  \n",
       "cylinders      -0.348746 -0.562543  \n",
       "displacement   -0.370164 -0.609409  \n",
       "weight         -0.306564 -0.581024  \n",
       "acceleration    0.288137  0.205873  \n",
       "model year      1.000000  0.180662  \n",
       "origin          0.180662  1.000000  "
      ]
     },
     "execution_count": 10,
     "metadata": {},
     "output_type": "execute_result"
    }
   ],
   "source": [
    "auto.corr()"
   ]
  },
  {
   "cell_type": "markdown",
   "metadata": {},
   "source": []
  },
  {
   "cell_type": "markdown",
   "metadata": {},
   "source": [
    "### In Data Analysis We will Analyze To Find out the below stuff\n",
    "1.Missing Values,\n",
    "2.All The Numerical Variables\n",
    "3.Distribution of the Numerical Variables\n",
    "4.Categorical Variables\n",
    "5.Cardinality of Categorical Variables\n",
    "6.Outliers\n",
    "7.Relationship between independent and dependent feature(mpg)"
   ]
  },
  {
   "cell_type": "markdown",
   "metadata": {},
   "source": [
    "## Missing value"
   ]
  },
  {
   "cell_type": "code",
   "execution_count": 11,
   "metadata": {},
   "outputs": [],
   "source": [
    "## Here we will chek the percentge of missing values of each feature \n",
    "## 1- step make the list of featute which has missing values\n",
    "\n",
    "features_with_na=[feature for feature in auto.columns if auto[feature].isnull().sum()>1]\n",
    "\n",
    "##2- step print the feature name and percentage of missing values\n",
    "for feature in features_with_na:\n",
    "    print(feature,np.round(auto[feature].isnull().mean(),4), '%missing values')"
   ]
  },
  {
   "cell_type": "markdown",
   "metadata": {},
   "source": [
    "## Numerical Variables"
   ]
  },
  {
   "cell_type": "code",
   "execution_count": null,
   "metadata": {},
   "outputs": [],
   "source": []
  },
  {
   "cell_type": "code",
   "execution_count": 12,
   "metadata": {},
   "outputs": [
    {
     "name": "stdout",
     "output_type": "stream",
     "text": [
      "Number of Numerical Variables: 7\n"
     ]
    },
    {
     "data": {
      "text/html": [
       "<div>\n",
       "<style scoped>\n",
       "    .dataframe tbody tr th:only-of-type {\n",
       "        vertical-align: middle;\n",
       "    }\n",
       "\n",
       "    .dataframe tbody tr th {\n",
       "        vertical-align: top;\n",
       "    }\n",
       "\n",
       "    .dataframe thead th {\n",
       "        text-align: right;\n",
       "    }\n",
       "</style>\n",
       "<table border=\"1\" class=\"dataframe\">\n",
       "  <thead>\n",
       "    <tr style=\"text-align: right;\">\n",
       "      <th></th>\n",
       "      <th>mpg</th>\n",
       "      <th>cylinders</th>\n",
       "      <th>displacement</th>\n",
       "      <th>weight</th>\n",
       "      <th>acceleration</th>\n",
       "      <th>model year</th>\n",
       "      <th>origin</th>\n",
       "    </tr>\n",
       "  </thead>\n",
       "  <tbody>\n",
       "    <tr>\n",
       "      <th>0</th>\n",
       "      <td>18.0</td>\n",
       "      <td>8</td>\n",
       "      <td>307.0</td>\n",
       "      <td>3504</td>\n",
       "      <td>12.0</td>\n",
       "      <td>70</td>\n",
       "      <td>1</td>\n",
       "    </tr>\n",
       "    <tr>\n",
       "      <th>1</th>\n",
       "      <td>15.0</td>\n",
       "      <td>8</td>\n",
       "      <td>350.0</td>\n",
       "      <td>3693</td>\n",
       "      <td>11.5</td>\n",
       "      <td>70</td>\n",
       "      <td>1</td>\n",
       "    </tr>\n",
       "    <tr>\n",
       "      <th>2</th>\n",
       "      <td>18.0</td>\n",
       "      <td>8</td>\n",
       "      <td>318.0</td>\n",
       "      <td>3436</td>\n",
       "      <td>11.0</td>\n",
       "      <td>70</td>\n",
       "      <td>1</td>\n",
       "    </tr>\n",
       "    <tr>\n",
       "      <th>3</th>\n",
       "      <td>16.0</td>\n",
       "      <td>8</td>\n",
       "      <td>304.0</td>\n",
       "      <td>3433</td>\n",
       "      <td>12.0</td>\n",
       "      <td>70</td>\n",
       "      <td>1</td>\n",
       "    </tr>\n",
       "    <tr>\n",
       "      <th>4</th>\n",
       "      <td>17.0</td>\n",
       "      <td>8</td>\n",
       "      <td>302.0</td>\n",
       "      <td>3449</td>\n",
       "      <td>10.5</td>\n",
       "      <td>70</td>\n",
       "      <td>1</td>\n",
       "    </tr>\n",
       "  </tbody>\n",
       "</table>\n",
       "</div>"
      ],
      "text/plain": [
       "    mpg  cylinders  displacement  weight  acceleration  model year  origin\n",
       "0  18.0          8         307.0    3504          12.0          70       1\n",
       "1  15.0          8         350.0    3693          11.5          70       1\n",
       "2  18.0          8         318.0    3436          11.0          70       1\n",
       "3  16.0          8         304.0    3433          12.0          70       1\n",
       "4  17.0          8         302.0    3449          10.5          70       1"
      ]
     },
     "execution_count": 12,
     "metadata": {},
     "output_type": "execute_result"
    }
   ],
   "source": [
    "## list of Numerical feature\n",
    "numerical_features=[feature for feature in auto.columns if auto[feature].dtypes!='O']\n",
    "print(\"Number of Numerical Variables:\", len(numerical_features))\n",
    "\n",
    "## Visibale the numeical variables\n",
    "auto[numerical_features].head()"
   ]
  },
  {
   "cell_type": "code",
   "execution_count": 13,
   "metadata": {},
   "outputs": [
    {
     "name": "stdout",
     "output_type": "stream",
     "text": [
      "Discrete Variables Count:3\n"
     ]
    }
   ],
   "source": [
    "## Numerical variables are usually 2 types\n",
    "## 1 Continuous Variables and Descrite Variables\n",
    "discrete_feature=[feature for feature in numerical_features if len(auto[feature].unique())<25]\n",
    "print(\"Discrete Variables Count:{}\".format(len(discrete_feature)))"
   ]
  },
  {
   "cell_type": "code",
   "execution_count": 14,
   "metadata": {},
   "outputs": [
    {
     "data": {
      "text/plain": [
       "['cylinders', 'model year', 'origin']"
      ]
     },
     "execution_count": 14,
     "metadata": {},
     "output_type": "execute_result"
    }
   ],
   "source": [
    "discrete_feature"
   ]
  },
  {
   "cell_type": "code",
   "execution_count": 15,
   "metadata": {},
   "outputs": [
    {
     "data": {
      "text/html": [
       "<div>\n",
       "<style scoped>\n",
       "    .dataframe tbody tr th:only-of-type {\n",
       "        vertical-align: middle;\n",
       "    }\n",
       "\n",
       "    .dataframe tbody tr th {\n",
       "        vertical-align: top;\n",
       "    }\n",
       "\n",
       "    .dataframe thead th {\n",
       "        text-align: right;\n",
       "    }\n",
       "</style>\n",
       "<table border=\"1\" class=\"dataframe\">\n",
       "  <thead>\n",
       "    <tr style=\"text-align: right;\">\n",
       "      <th></th>\n",
       "      <th>cylinders</th>\n",
       "      <th>model year</th>\n",
       "      <th>origin</th>\n",
       "    </tr>\n",
       "  </thead>\n",
       "  <tbody>\n",
       "    <tr>\n",
       "      <th>0</th>\n",
       "      <td>8</td>\n",
       "      <td>70</td>\n",
       "      <td>1</td>\n",
       "    </tr>\n",
       "    <tr>\n",
       "      <th>1</th>\n",
       "      <td>8</td>\n",
       "      <td>70</td>\n",
       "      <td>1</td>\n",
       "    </tr>\n",
       "    <tr>\n",
       "      <th>2</th>\n",
       "      <td>8</td>\n",
       "      <td>70</td>\n",
       "      <td>1</td>\n",
       "    </tr>\n",
       "    <tr>\n",
       "      <th>3</th>\n",
       "      <td>8</td>\n",
       "      <td>70</td>\n",
       "      <td>1</td>\n",
       "    </tr>\n",
       "    <tr>\n",
       "      <th>4</th>\n",
       "      <td>8</td>\n",
       "      <td>70</td>\n",
       "      <td>1</td>\n",
       "    </tr>\n",
       "  </tbody>\n",
       "</table>\n",
       "</div>"
      ],
      "text/plain": [
       "   cylinders  model year  origin\n",
       "0          8          70       1\n",
       "1          8          70       1\n",
       "2          8          70       1\n",
       "3          8          70       1\n",
       "4          8          70       1"
      ]
     },
     "execution_count": 15,
     "metadata": {},
     "output_type": "execute_result"
    }
   ],
   "source": [
    "auto[discrete_feature].head()"
   ]
  },
  {
   "cell_type": "code",
   "execution_count": 16,
   "metadata": {},
   "outputs": [
    {
     "data": {
      "image/png": "[encoded data removed]",
      "text/plain": [
       "<Figure size 432x288 with 1 Axes>"
      ]
     },
     "metadata": {
      "needs_background": "light"
     },
     "output_type": "display_data"
    },
    {
     "data": {
      "image/png": "[encoded data removed]",
      "text/plain": [
       "<Figure size 432x288 with 1 Axes>"
      ]
     },
     "metadata": {
      "needs_background": "light"
     },
     "output_type": "display_data"
    },
    {
     "data": {
      "image/png": "[encoded data removed]",
      "text/plain": [
       "<Figure size 432x288 with 1 Axes>"
      ]
     },
     "metadata": {
      "needs_background": "light"
     },
     "output_type": "display_data"
    }
   ],
   "source": [
    "## lets Find the realtionship between them and mpg\n",
    "for feature in discrete_feature:\n",
    "    data=auto.copy()\n",
    "    data.groupby(feature)['mpg'].median().plot.bar()\n",
    "    plt.xlabel(feature)\n",
    "    plt.ylabel('mpg')\n",
    "    plt.title(feature)\n",
    "    plt.show()"
   ]
  },
  {
   "cell_type": "markdown",
   "metadata": {},
   "source": [
    "### Continuous Variable"
   ]
  },
  {
   "cell_type": "code",
   "execution_count": 17,
   "metadata": {},
   "outputs": [
    {
     "name": "stdout",
     "output_type": "stream",
     "text": [
      "Continuous Variables Count:4\n"
     ]
    }
   ],
   "source": [
    "continuous_feature=[feature for feature in numerical_features if feature not in discrete_feature]\n",
    "print('Continuous Variables Count:{}'.format(len(continuous_feature)))\n"
   ]
  },
  {
   "cell_type": "code",
   "execution_count": 18,
   "metadata": {},
   "outputs": [
    {
     "data": {
      "text/plain": [
       "['mpg', 'displacement', 'weight', 'acceleration']"
      ]
     },
     "execution_count": 18,
     "metadata": {},
     "output_type": "execute_result"
    }
   ],
   "source": [
    "continuous_feature"
   ]
  },
  {
   "cell_type": "code",
   "execution_count": 19,
   "metadata": {},
   "outputs": [
    {
     "data": {
      "text/html": [
       "<div>\n",
       "<style scoped>\n",
       "    .dataframe tbody tr th:only-of-type {\n",
       "        vertical-align: middle;\n",
       "    }\n",
       "\n",
       "    .dataframe tbody tr th {\n",
       "        vertical-align: top;\n",
       "    }\n",
       "\n",
       "    .dataframe thead th {\n",
       "        text-align: right;\n",
       "    }\n",
       "</style>\n",
       "<table border=\"1\" class=\"dataframe\">\n",
       "  <thead>\n",
       "    <tr style=\"text-align: right;\">\n",
       "      <th></th>\n",
       "      <th>mpg</th>\n",
       "      <th>displacement</th>\n",
       "      <th>weight</th>\n",
       "      <th>acceleration</th>\n",
       "    </tr>\n",
       "  </thead>\n",
       "  <tbody>\n",
       "    <tr>\n",
       "      <th>0</th>\n",
       "      <td>18.0</td>\n",
       "      <td>307.0</td>\n",
       "      <td>3504</td>\n",
       "      <td>12.0</td>\n",
       "    </tr>\n",
       "    <tr>\n",
       "      <th>1</th>\n",
       "      <td>15.0</td>\n",
       "      <td>350.0</td>\n",
       "      <td>3693</td>\n",
       "      <td>11.5</td>\n",
       "    </tr>\n",
       "    <tr>\n",
       "      <th>2</th>\n",
       "      <td>18.0</td>\n",
       "      <td>318.0</td>\n",
       "      <td>3436</td>\n",
       "      <td>11.0</td>\n",
       "    </tr>\n",
       "    <tr>\n",
       "      <th>3</th>\n",
       "      <td>16.0</td>\n",
       "      <td>304.0</td>\n",
       "      <td>3433</td>\n",
       "      <td>12.0</td>\n",
       "    </tr>\n",
       "    <tr>\n",
       "      <th>4</th>\n",
       "      <td>17.0</td>\n",
       "      <td>302.0</td>\n",
       "      <td>3449</td>\n",
       "      <td>10.5</td>\n",
       "    </tr>\n",
       "  </tbody>\n",
       "</table>\n",
       "</div>"
      ],
      "text/plain": [
       "    mpg  displacement  weight  acceleration\n",
       "0  18.0         307.0    3504          12.0\n",
       "1  15.0         350.0    3693          11.5\n",
       "2  18.0         318.0    3436          11.0\n",
       "3  16.0         304.0    3433          12.0\n",
       "4  17.0         302.0    3449          10.5"
      ]
     },
     "execution_count": 19,
     "metadata": {},
     "output_type": "execute_result"
    }
   ],
   "source": [
    "## Visibels thecontinuoul variables\n",
    "auto[continuous_feature].head()"
   ]
  },
  {
   "cell_type": "code",
   "execution_count": 20,
   "metadata": {},
   "outputs": [
    {
     "data": {
      "image/png": "[encoded data removed]",
      "text/plain": [
       "<Figure size 432x288 with 1 Axes>"
      ]
     },
     "metadata": {
      "needs_background": "light"
     },
     "output_type": "display_data"
    },
    {
     "data": {
      "image/png": "[encoded data removed]",
      "text/plain": [
       "<Figure size 432x288 with 1 Axes>"
      ]
     },
     "metadata": {
      "needs_background": "light"
     },
     "output_type": "display_data"
    },
    {
     "data": {
      "image/png": "[encoded data removed]",
      "text/plain": [
       "<Figure size 432x288 with 1 Axes>"
      ]
     },
     "metadata": {
      "needs_background": "light"
     },
     "output_type": "display_data"
    },
    {
     "data": {
      "image/png": "[encoded data removed]",
      "text/plain": [
       "<Figure size 432x288 with 1 Axes>"
      ]
     },
     "metadata": {
      "needs_background": "light"
     },
     "output_type": "display_data"
    }
   ],
   "source": [
    "for feature in continuous_feature:\n",
    "    data=auto.copy()\n",
    "    data[feature].hist(bins=25)\n",
    "    plt.xlabel(feature)\n",
    "    plt.ylabel('mpg')\n",
    "    plt.title(feature)\n",
    "    plt.show()"
   ]
  },
  {
   "cell_type": "code",
   "execution_count": 21,
   "metadata": {},
   "outputs": [
    {
     "data": {
      "image/png": "[encoded data removed]",
      "text/plain": [
       "<Figure size 432x288 with 1 Axes>"
      ]
     },
     "metadata": {
      "needs_background": "light"
     },
     "output_type": "display_data"
    },
    {
     "data": {
      "image/png": "[encoded data removed]",
      "text/plain": [
       "<Figure size 432x288 with 1 Axes>"
      ]
     },
     "metadata": {
      "needs_background": "light"
     },
     "output_type": "display_data"
    },
    {
     "data": {
      "image/png": "[encoded data removed]",
      "text/plain": [
       "<Figure size 432x288 with 1 Axes>"
      ]
     },
     "metadata": {
      "needs_background": "light"
     },
     "output_type": "display_data"
    },
    {
     "data": {
      "image/png": "[encoded data removed]",
      "text/plain": [
       "<Figure size 432x288 with 1 Axes>"
      ]
     },
     "metadata": {
      "needs_background": "light"
     },
     "output_type": "display_data"
    }
   ],
   "source": [
    "## We will be usimg a logarithmic transfrmation\n",
    "\n",
    "for feature in continuous_feature:\n",
    "    data=auto.copy()\n",
    "    if 0 in data[feature].unique():\n",
    "        pass\n",
    "    else:\n",
    "        data[feature]=np.log(data[feature])\n",
    "        data['mpg']=np.log(data['mpg'])\n",
    "        plt.scatter(data[feature],data['mpg'])\n",
    "        plt.xlabel(feature)\n",
    "        plt.ylabel('mpg')\n",
    "        plt.title(feature)\n",
    "        plt.show()"
   ]
  },
  {
   "cell_type": "markdown",
   "metadata": {},
   "source": [
    "## Outliers"
   ]
  },
  {
   "cell_type": "code",
   "execution_count": 22,
   "metadata": {},
   "outputs": [
    {
     "data": {
      "image/png": "[encoded data removed]",
      "text/plain": [
       "<Figure size 432x288 with 1 Axes>"
      ]
     },
     "metadata": {
      "needs_background": "light"
     },
     "output_type": "display_data"
    },
    {
     "data": {
      "image/png": "[encoded data removed]",
      "text/plain": [
       "<Figure size 432x288 with 1 Axes>"
      ]
     },
     "metadata": {
      "needs_background": "light"
     },
     "output_type": "display_data"
    },
    {
     "data": {
      "image/png": "[encoded data removed]",
      "text/plain": [
       "<Figure size 432x288 with 1 Axes>"
      ]
     },
     "metadata": {
      "needs_background": "light"
     },
     "output_type": "display_data"
    },
    {
     "data": {
      "image/png": "[encoded data removed]",
      "text/plain": [
       "<Figure size 432x288 with 1 Axes>"
      ]
     },
     "metadata": {
      "needs_background": "light"
     },
     "output_type": "display_data"
    }
   ],
   "source": [
    "for feature in continuous_feature:\n",
    "    data=auto.copy()\n",
    "    if 0 in data[feature].unique():\n",
    "        pass\n",
    "    else:\n",
    "        data[feature]=np.log(data[feature])\n",
    "        data.boxplot(column=feature)\n",
    "        plt.ylabel(feature)\n",
    "        plt.title(feature)\n",
    "        plt.show()\n",
    "\n",
    "        "
   ]
  },
  {
   "cell_type": "markdown",
   "metadata": {},
   "source": [
    "### Categorical Variables"
   ]
  },
  {
   "cell_type": "code",
   "execution_count": 23,
   "metadata": {},
   "outputs": [
    {
     "data": {
      "text/plain": [
       "['horsepower', 'car name']"
      ]
     },
     "execution_count": 23,
     "metadata": {},
     "output_type": "execute_result"
    }
   ],
   "source": [
    "categorical_feature=[feature for feature in auto.columns if auto[feature].dtypes=='O']\n",
    "categorical_feature"
   ]
  },
  {
   "cell_type": "code",
   "execution_count": 24,
   "metadata": {},
   "outputs": [
    {
     "data": {
      "text/html": [
       "<div>\n",
       "<style scoped>\n",
       "    .dataframe tbody tr th:only-of-type {\n",
       "        vertical-align: middle;\n",
       "    }\n",
       "\n",
       "    .dataframe tbody tr th {\n",
       "        vertical-align: top;\n",
       "    }\n",
       "\n",
       "    .dataframe thead th {\n",
       "        text-align: right;\n",
       "    }\n",
       "</style>\n",
       "<table border=\"1\" class=\"dataframe\">\n",
       "  <thead>\n",
       "    <tr style=\"text-align: right;\">\n",
       "      <th></th>\n",
       "      <th>horsepower</th>\n",
       "      <th>car name</th>\n",
       "    </tr>\n",
       "  </thead>\n",
       "  <tbody>\n",
       "    <tr>\n",
       "      <th>0</th>\n",
       "      <td>130</td>\n",
       "      <td>chevrolet chevelle malibu</td>\n",
       "    </tr>\n",
       "    <tr>\n",
       "      <th>1</th>\n",
       "      <td>165</td>\n",
       "      <td>buick skylark 320</td>\n",
       "    </tr>\n",
       "    <tr>\n",
       "      <th>2</th>\n",
       "      <td>150</td>\n",
       "      <td>plymouth satellite</td>\n",
       "    </tr>\n",
       "    <tr>\n",
       "      <th>3</th>\n",
       "      <td>150</td>\n",
       "      <td>amc rebel sst</td>\n",
       "    </tr>\n",
       "    <tr>\n",
       "      <th>4</th>\n",
       "      <td>140</td>\n",
       "      <td>ford torino</td>\n",
       "    </tr>\n",
       "  </tbody>\n",
       "</table>\n",
       "</div>"
      ],
      "text/plain": [
       "  horsepower                   car name\n",
       "0        130  chevrolet chevelle malibu\n",
       "1        165          buick skylark 320\n",
       "2        150         plymouth satellite\n",
       "3        150              amc rebel sst\n",
       "4        140                ford torino"
      ]
     },
     "execution_count": 24,
     "metadata": {},
     "output_type": "execute_result"
    }
   ],
   "source": [
    "auto[categorical_feature].head()"
   ]
  },
  {
   "cell_type": "code",
   "execution_count": 25,
   "metadata": {},
   "outputs": [
    {
     "name": "stdout",
     "output_type": "stream",
     "text": [
      "The feature is horsepower and number of categories are 94\n",
      "The feature is car name and number of categories are 305\n"
     ]
    }
   ],
   "source": [
    "for feature in categorical_feature:\n",
    "    print('The feature is {} and number of categories are {}'.format(feature,len(auto[feature].unique())))"
   ]
  },
  {
   "cell_type": "code",
   "execution_count": 26,
   "metadata": {},
   "outputs": [],
   "source": [
    "## Find out the relationship between categorical variable and dependent feature SalesPrice"
   ]
  },
  {
   "cell_type": "code",
   "execution_count": 27,
   "metadata": {},
   "outputs": [
    {
     "data": {
      "image/png": "[encoded data removed]",
      "text/plain": [
       "<Figure size 432x288 with 1 Axes>"
      ]
     },
     "metadata": {
      "needs_background": "light"
     },
     "output_type": "display_data"
    },
    {
     "data": {
      "image/png": "[encoded data removed]",
      "text/plain": [
       "<Figure size 432x288 with 1 Axes>"
      ]
     },
     "metadata": {
      "needs_background": "light"
     },
     "output_type": "display_data"
    }
   ],
   "source": [
    "for feature in categorical_feature:\n",
    "    data=auto.copy()\n",
    "    data.groupby(feature)['mpg'].median().plot.bar()\n",
    "    plt.xlabel(feature)\n",
    "    plt.ylabel('mpg')\n",
    "    plt.title(feature)\n",
    "    plt.show()"
   ]
  },
  {
   "cell_type": "markdown",
   "metadata": {},
   "source": [
    "## Feature Engineering"
   ]
  },
  {
   "cell_type": "markdown",
   "metadata": {},
   "source": [
    "We will be performing all the below steps in Feature Engineering\n",
    "\n",
    "1.Missing values\n",
    "2.Categorical variables: remove rare labels\n",
    "3.Standarise the values of the variables to the same range"
   ]
  },
  {
   "cell_type": "code",
   "execution_count": 28,
   "metadata": {},
   "outputs": [],
   "source": [
    "## Always remember there way always be a chance of data leakage so we need to split the data first and then apply feature\n",
    "## Engineering\n",
    "from sklearn.model_selection import train_test_split\n",
    "X_train,X_test,y_train,y_test=train_test_split(auto,auto['mpg'],test_size=0.1,random_state=0)"
   ]
  },
  {
   "cell_type": "code",
   "execution_count": 29,
   "metadata": {},
   "outputs": [
    {
     "data": {
      "text/plain": [
       "((358, 9), (40, 9))"
      ]
     },
     "execution_count": 29,
     "metadata": {},
     "output_type": "execute_result"
    }
   ],
   "source": [
    "X_train.shape, X_test.shape"
   ]
  },
  {
   "cell_type": "markdown",
   "metadata": {},
   "source": [
    "## Numerical Variables"
   ]
  },
  {
   "cell_type": "markdown",
   "metadata": {},
   "source": [
    "Since the Numercial variables are skewes we will perform log normal distribution"
   ]
  },
  {
   "cell_type": "code",
   "execution_count": 30,
   "metadata": {},
   "outputs": [
    {
     "data": {
      "text/plain": [
       "Index(['mpg', 'cylinders', 'displacement', 'horsepower', 'weight',\n",
       "       'acceleration', 'model year', 'origin', 'car name'],\n",
       "      dtype='object')"
      ]
     },
     "execution_count": 30,
     "metadata": {},
     "output_type": "execute_result"
    }
   ],
   "source": [
    "auto.columns"
   ]
  },
  {
   "cell_type": "code",
   "execution_count": 31,
   "metadata": {},
   "outputs": [],
   "source": [
    "num_feature=['mpg', 'cylinders', 'displacement','weight','acceleration', 'model year', 'origin']\n",
    "for feature in num_feature:\n",
    "    auto[feature]=np.log (auto[feature])"
   ]
  },
  {
   "cell_type": "code",
   "execution_count": 32,
   "metadata": {},
   "outputs": [
    {
     "data": {
      "text/html": [
       "<div>\n",
       "<style scoped>\n",
       "    .dataframe tbody tr th:only-of-type {\n",
       "        vertical-align: middle;\n",
       "    }\n",
       "\n",
       "    .dataframe tbody tr th {\n",
       "        vertical-align: top;\n",
       "    }\n",
       "\n",
       "    .dataframe thead th {\n",
       "        text-align: right;\n",
       "    }\n",
       "</style>\n",
       "<table border=\"1\" class=\"dataframe\">\n",
       "  <thead>\n",
       "    <tr style=\"text-align: right;\">\n",
       "      <th></th>\n",
       "      <th>mpg</th>\n",
       "      <th>cylinders</th>\n",
       "      <th>displacement</th>\n",
       "      <th>horsepower</th>\n",
       "      <th>weight</th>\n",
       "      <th>acceleration</th>\n",
       "      <th>model year</th>\n",
       "      <th>origin</th>\n",
       "      <th>car name</th>\n",
       "    </tr>\n",
       "  </thead>\n",
       "  <tbody>\n",
       "    <tr>\n",
       "      <th>0</th>\n",
       "      <td>2.890372</td>\n",
       "      <td>2.079442</td>\n",
       "      <td>5.726848</td>\n",
       "      <td>130</td>\n",
       "      <td>8.161660</td>\n",
       "      <td>2.484907</td>\n",
       "      <td>4.248495</td>\n",
       "      <td>0.0</td>\n",
       "      <td>chevrolet chevelle malibu</td>\n",
       "    </tr>\n",
       "    <tr>\n",
       "      <th>1</th>\n",
       "      <td>2.708050</td>\n",
       "      <td>2.079442</td>\n",
       "      <td>5.857933</td>\n",
       "      <td>165</td>\n",
       "      <td>8.214194</td>\n",
       "      <td>2.442347</td>\n",
       "      <td>4.248495</td>\n",
       "      <td>0.0</td>\n",
       "      <td>buick skylark 320</td>\n",
       "    </tr>\n",
       "    <tr>\n",
       "      <th>2</th>\n",
       "      <td>2.890372</td>\n",
       "      <td>2.079442</td>\n",
       "      <td>5.762051</td>\n",
       "      <td>150</td>\n",
       "      <td>8.142063</td>\n",
       "      <td>2.397895</td>\n",
       "      <td>4.248495</td>\n",
       "      <td>0.0</td>\n",
       "      <td>plymouth satellite</td>\n",
       "    </tr>\n",
       "    <tr>\n",
       "      <th>3</th>\n",
       "      <td>2.772589</td>\n",
       "      <td>2.079442</td>\n",
       "      <td>5.717028</td>\n",
       "      <td>150</td>\n",
       "      <td>8.141190</td>\n",
       "      <td>2.484907</td>\n",
       "      <td>4.248495</td>\n",
       "      <td>0.0</td>\n",
       "      <td>amc rebel sst</td>\n",
       "    </tr>\n",
       "    <tr>\n",
       "      <th>4</th>\n",
       "      <td>2.833213</td>\n",
       "      <td>2.079442</td>\n",
       "      <td>5.710427</td>\n",
       "      <td>140</td>\n",
       "      <td>8.145840</td>\n",
       "      <td>2.351375</td>\n",
       "      <td>4.248495</td>\n",
       "      <td>0.0</td>\n",
       "      <td>ford torino</td>\n",
       "    </tr>\n",
       "  </tbody>\n",
       "</table>\n",
       "</div>"
      ],
      "text/plain": [
       "        mpg  cylinders  displacement horsepower    weight  acceleration  \\\n",
       "0  2.890372   2.079442      5.726848        130  8.161660      2.484907   \n",
       "1  2.708050   2.079442      5.857933        165  8.214194      2.442347   \n",
       "2  2.890372   2.079442      5.762051        150  8.142063      2.397895   \n",
       "3  2.772589   2.079442      5.717028        150  8.141190      2.484907   \n",
       "4  2.833213   2.079442      5.710427        140  8.145840      2.351375   \n",
       "\n",
       "   model year  origin                   car name  \n",
       "0    4.248495     0.0  chevrolet chevelle malibu  \n",
       "1    4.248495     0.0          buick skylark 320  \n",
       "2    4.248495     0.0         plymouth satellite  \n",
       "3    4.248495     0.0              amc rebel sst  \n",
       "4    4.248495     0.0                ford torino  "
      ]
     },
     "execution_count": 32,
     "metadata": {},
     "output_type": "execute_result"
    }
   ],
   "source": [
    "auto.head()"
   ]
  },
  {
   "cell_type": "markdown",
   "metadata": {},
   "source": [
    "## Handling Rare Categorical Feature"
   ]
  },
  {
   "cell_type": "code",
   "execution_count": 33,
   "metadata": {},
   "outputs": [
    {
     "data": {
      "text/plain": [
       "['horsepower', 'car name']"
      ]
     },
     "execution_count": 33,
     "metadata": {},
     "output_type": "execute_result"
    }
   ],
   "source": [
    "ctegorical_feature=[feature for feature in auto.columns if auto[feature].dtypes=='O']\n",
    "categorical_feature"
   ]
  },
  {
   "cell_type": "code",
   "execution_count": 34,
   "metadata": {},
   "outputs": [],
   "source": [
    "for feature in categorical_feature:\n",
    "    temp=auto.groupby(feature)['mpg'].count()/len(auto)\n",
    "    temp_df=temp[temp>0.01].index\n",
    "    auto[feature]=np.where(auto[feature].isin(temp_df),auto[feature],'Rare_var')"
   ]
  },
  {
   "cell_type": "code",
   "execution_count": 35,
   "metadata": {},
   "outputs": [
    {
     "data": {
      "text/html": [
       "<div>\n",
       "<style scoped>\n",
       "    .dataframe tbody tr th:only-of-type {\n",
       "        vertical-align: middle;\n",
       "    }\n",
       "\n",
       "    .dataframe tbody tr th {\n",
       "        vertical-align: top;\n",
       "    }\n",
       "\n",
       "    .dataframe thead th {\n",
       "        text-align: right;\n",
       "    }\n",
       "</style>\n",
       "<table border=\"1\" class=\"dataframe\">\n",
       "  <thead>\n",
       "    <tr style=\"text-align: right;\">\n",
       "      <th></th>\n",
       "      <th>mpg</th>\n",
       "      <th>cylinders</th>\n",
       "      <th>displacement</th>\n",
       "      <th>horsepower</th>\n",
       "      <th>weight</th>\n",
       "      <th>acceleration</th>\n",
       "      <th>model year</th>\n",
       "      <th>origin</th>\n",
       "      <th>car name</th>\n",
       "    </tr>\n",
       "  </thead>\n",
       "  <tbody>\n",
       "    <tr>\n",
       "      <th>0</th>\n",
       "      <td>2.890372</td>\n",
       "      <td>2.079442</td>\n",
       "      <td>5.726848</td>\n",
       "      <td>130</td>\n",
       "      <td>8.161660</td>\n",
       "      <td>2.484907</td>\n",
       "      <td>4.248495</td>\n",
       "      <td>0.000000</td>\n",
       "      <td>Rare_var</td>\n",
       "    </tr>\n",
       "    <tr>\n",
       "      <th>1</th>\n",
       "      <td>2.708050</td>\n",
       "      <td>2.079442</td>\n",
       "      <td>5.857933</td>\n",
       "      <td>165</td>\n",
       "      <td>8.214194</td>\n",
       "      <td>2.442347</td>\n",
       "      <td>4.248495</td>\n",
       "      <td>0.000000</td>\n",
       "      <td>Rare_var</td>\n",
       "    </tr>\n",
       "    <tr>\n",
       "      <th>2</th>\n",
       "      <td>2.890372</td>\n",
       "      <td>2.079442</td>\n",
       "      <td>5.762051</td>\n",
       "      <td>150</td>\n",
       "      <td>8.142063</td>\n",
       "      <td>2.397895</td>\n",
       "      <td>4.248495</td>\n",
       "      <td>0.000000</td>\n",
       "      <td>Rare_var</td>\n",
       "    </tr>\n",
       "    <tr>\n",
       "      <th>3</th>\n",
       "      <td>2.772589</td>\n",
       "      <td>2.079442</td>\n",
       "      <td>5.717028</td>\n",
       "      <td>150</td>\n",
       "      <td>8.141190</td>\n",
       "      <td>2.484907</td>\n",
       "      <td>4.248495</td>\n",
       "      <td>0.000000</td>\n",
       "      <td>Rare_var</td>\n",
       "    </tr>\n",
       "    <tr>\n",
       "      <th>4</th>\n",
       "      <td>2.833213</td>\n",
       "      <td>2.079442</td>\n",
       "      <td>5.710427</td>\n",
       "      <td>140</td>\n",
       "      <td>8.145840</td>\n",
       "      <td>2.351375</td>\n",
       "      <td>4.248495</td>\n",
       "      <td>0.000000</td>\n",
       "      <td>Rare_var</td>\n",
       "    </tr>\n",
       "    <tr>\n",
       "      <th>5</th>\n",
       "      <td>2.708050</td>\n",
       "      <td>2.079442</td>\n",
       "      <td>6.061457</td>\n",
       "      <td>Rare_var</td>\n",
       "      <td>8.375860</td>\n",
       "      <td>2.302585</td>\n",
       "      <td>4.248495</td>\n",
       "      <td>0.000000</td>\n",
       "      <td>Rare_var</td>\n",
       "    </tr>\n",
       "    <tr>\n",
       "      <th>6</th>\n",
       "      <td>2.639057</td>\n",
       "      <td>2.079442</td>\n",
       "      <td>6.118097</td>\n",
       "      <td>Rare_var</td>\n",
       "      <td>8.378850</td>\n",
       "      <td>2.197225</td>\n",
       "      <td>4.248495</td>\n",
       "      <td>0.000000</td>\n",
       "      <td>chevrolet impala</td>\n",
       "    </tr>\n",
       "    <tr>\n",
       "      <th>7</th>\n",
       "      <td>2.639057</td>\n",
       "      <td>2.079442</td>\n",
       "      <td>6.086775</td>\n",
       "      <td>Rare_var</td>\n",
       "      <td>8.369157</td>\n",
       "      <td>2.140066</td>\n",
       "      <td>4.248495</td>\n",
       "      <td>0.000000</td>\n",
       "      <td>Rare_var</td>\n",
       "    </tr>\n",
       "    <tr>\n",
       "      <th>8</th>\n",
       "      <td>2.639057</td>\n",
       "      <td>2.079442</td>\n",
       "      <td>6.120297</td>\n",
       "      <td>Rare_var</td>\n",
       "      <td>8.395026</td>\n",
       "      <td>2.302585</td>\n",
       "      <td>4.248495</td>\n",
       "      <td>0.000000</td>\n",
       "      <td>Rare_var</td>\n",
       "    </tr>\n",
       "    <tr>\n",
       "      <th>9</th>\n",
       "      <td>2.708050</td>\n",
       "      <td>2.079442</td>\n",
       "      <td>5.966147</td>\n",
       "      <td>Rare_var</td>\n",
       "      <td>8.255828</td>\n",
       "      <td>2.140066</td>\n",
       "      <td>4.248495</td>\n",
       "      <td>0.000000</td>\n",
       "      <td>Rare_var</td>\n",
       "    </tr>\n",
       "    <tr>\n",
       "      <th>10</th>\n",
       "      <td>2.708050</td>\n",
       "      <td>2.079442</td>\n",
       "      <td>5.948035</td>\n",
       "      <td>170</td>\n",
       "      <td>8.178358</td>\n",
       "      <td>2.302585</td>\n",
       "      <td>4.248495</td>\n",
       "      <td>0.000000</td>\n",
       "      <td>Rare_var</td>\n",
       "    </tr>\n",
       "    <tr>\n",
       "      <th>11</th>\n",
       "      <td>2.639057</td>\n",
       "      <td>2.079442</td>\n",
       "      <td>5.828946</td>\n",
       "      <td>Rare_var</td>\n",
       "      <td>8.191186</td>\n",
       "      <td>2.079442</td>\n",
       "      <td>4.248495</td>\n",
       "      <td>0.000000</td>\n",
       "      <td>Rare_var</td>\n",
       "    </tr>\n",
       "    <tr>\n",
       "      <th>12</th>\n",
       "      <td>2.708050</td>\n",
       "      <td>2.079442</td>\n",
       "      <td>5.991465</td>\n",
       "      <td>150</td>\n",
       "      <td>8.232440</td>\n",
       "      <td>2.251292</td>\n",
       "      <td>4.248495</td>\n",
       "      <td>0.000000</td>\n",
       "      <td>Rare_var</td>\n",
       "    </tr>\n",
       "    <tr>\n",
       "      <th>13</th>\n",
       "      <td>2.639057</td>\n",
       "      <td>2.079442</td>\n",
       "      <td>6.120297</td>\n",
       "      <td>Rare_var</td>\n",
       "      <td>8.034631</td>\n",
       "      <td>2.302585</td>\n",
       "      <td>4.248495</td>\n",
       "      <td>0.000000</td>\n",
       "      <td>Rare_var</td>\n",
       "    </tr>\n",
       "    <tr>\n",
       "      <th>14</th>\n",
       "      <td>3.178054</td>\n",
       "      <td>1.386294</td>\n",
       "      <td>4.727388</td>\n",
       "      <td>95</td>\n",
       "      <td>7.771489</td>\n",
       "      <td>2.708050</td>\n",
       "      <td>4.248495</td>\n",
       "      <td>1.098612</td>\n",
       "      <td>Rare_var</td>\n",
       "    </tr>\n",
       "    <tr>\n",
       "      <th>15</th>\n",
       "      <td>3.091042</td>\n",
       "      <td>1.791759</td>\n",
       "      <td>5.288267</td>\n",
       "      <td>95</td>\n",
       "      <td>7.949091</td>\n",
       "      <td>2.740840</td>\n",
       "      <td>4.248495</td>\n",
       "      <td>0.000000</td>\n",
       "      <td>Rare_var</td>\n",
       "    </tr>\n",
       "    <tr>\n",
       "      <th>16</th>\n",
       "      <td>2.890372</td>\n",
       "      <td>1.791759</td>\n",
       "      <td>5.293305</td>\n",
       "      <td>97</td>\n",
       "      <td>7.928046</td>\n",
       "      <td>2.740840</td>\n",
       "      <td>4.248495</td>\n",
       "      <td>0.000000</td>\n",
       "      <td>amc hornet</td>\n",
       "    </tr>\n",
       "    <tr>\n",
       "      <th>17</th>\n",
       "      <td>3.044522</td>\n",
       "      <td>1.791759</td>\n",
       "      <td>5.298317</td>\n",
       "      <td>85</td>\n",
       "      <td>7.858254</td>\n",
       "      <td>2.772589</td>\n",
       "      <td>4.248495</td>\n",
       "      <td>0.000000</td>\n",
       "      <td>ford maverick</td>\n",
       "    </tr>\n",
       "    <tr>\n",
       "      <th>18</th>\n",
       "      <td>3.295837</td>\n",
       "      <td>1.386294</td>\n",
       "      <td>4.574711</td>\n",
       "      <td>88</td>\n",
       "      <td>7.663877</td>\n",
       "      <td>2.674149</td>\n",
       "      <td>4.248495</td>\n",
       "      <td>1.098612</td>\n",
       "      <td>Rare_var</td>\n",
       "    </tr>\n",
       "    <tr>\n",
       "      <th>19</th>\n",
       "      <td>3.258097</td>\n",
       "      <td>1.386294</td>\n",
       "      <td>4.574711</td>\n",
       "      <td>Rare_var</td>\n",
       "      <td>7.514800</td>\n",
       "      <td>3.020425</td>\n",
       "      <td>4.248495</td>\n",
       "      <td>0.693147</td>\n",
       "      <td>Rare_var</td>\n",
       "    </tr>\n",
       "    <tr>\n",
       "      <th>20</th>\n",
       "      <td>3.218876</td>\n",
       "      <td>1.386294</td>\n",
       "      <td>4.700480</td>\n",
       "      <td>Rare_var</td>\n",
       "      <td>7.890583</td>\n",
       "      <td>2.862201</td>\n",
       "      <td>4.248495</td>\n",
       "      <td>0.693147</td>\n",
       "      <td>peugeot 504</td>\n",
       "    </tr>\n",
       "    <tr>\n",
       "      <th>21</th>\n",
       "      <td>3.178054</td>\n",
       "      <td>1.386294</td>\n",
       "      <td>4.672829</td>\n",
       "      <td>90</td>\n",
       "      <td>7.795647</td>\n",
       "      <td>2.674149</td>\n",
       "      <td>4.248495</td>\n",
       "      <td>0.693147</td>\n",
       "      <td>Rare_var</td>\n",
       "    </tr>\n",
       "    <tr>\n",
       "      <th>22</th>\n",
       "      <td>3.218876</td>\n",
       "      <td>1.386294</td>\n",
       "      <td>4.644391</td>\n",
       "      <td>95</td>\n",
       "      <td>7.772753</td>\n",
       "      <td>2.862201</td>\n",
       "      <td>4.248495</td>\n",
       "      <td>0.693147</td>\n",
       "      <td>Rare_var</td>\n",
       "    </tr>\n",
       "    <tr>\n",
       "      <th>23</th>\n",
       "      <td>3.258097</td>\n",
       "      <td>1.386294</td>\n",
       "      <td>4.795791</td>\n",
       "      <td>Rare_var</td>\n",
       "      <td>7.711549</td>\n",
       "      <td>2.525729</td>\n",
       "      <td>4.248495</td>\n",
       "      <td>0.693147</td>\n",
       "      <td>Rare_var</td>\n",
       "    </tr>\n",
       "    <tr>\n",
       "      <th>24</th>\n",
       "      <td>3.044522</td>\n",
       "      <td>1.791759</td>\n",
       "      <td>5.293305</td>\n",
       "      <td>90</td>\n",
       "      <td>7.881560</td>\n",
       "      <td>2.708050</td>\n",
       "      <td>4.248495</td>\n",
       "      <td>0.000000</td>\n",
       "      <td>amc gremlin</td>\n",
       "    </tr>\n",
       "    <tr>\n",
       "      <th>25</th>\n",
       "      <td>2.302585</td>\n",
       "      <td>2.079442</td>\n",
       "      <td>5.886104</td>\n",
       "      <td>Rare_var</td>\n",
       "      <td>8.437067</td>\n",
       "      <td>2.639057</td>\n",
       "      <td>4.248495</td>\n",
       "      <td>0.000000</td>\n",
       "      <td>Rare_var</td>\n",
       "    </tr>\n",
       "    <tr>\n",
       "      <th>26</th>\n",
       "      <td>2.302585</td>\n",
       "      <td>2.079442</td>\n",
       "      <td>5.726848</td>\n",
       "      <td>Rare_var</td>\n",
       "      <td>8.383890</td>\n",
       "      <td>2.708050</td>\n",
       "      <td>4.248495</td>\n",
       "      <td>0.000000</td>\n",
       "      <td>Rare_var</td>\n",
       "    </tr>\n",
       "    <tr>\n",
       "      <th>27</th>\n",
       "      <td>2.397895</td>\n",
       "      <td>2.079442</td>\n",
       "      <td>5.762051</td>\n",
       "      <td>Rare_var</td>\n",
       "      <td>8.385261</td>\n",
       "      <td>2.602690</td>\n",
       "      <td>4.248495</td>\n",
       "      <td>0.000000</td>\n",
       "      <td>Rare_var</td>\n",
       "    </tr>\n",
       "    <tr>\n",
       "      <th>28</th>\n",
       "      <td>2.197225</td>\n",
       "      <td>2.079442</td>\n",
       "      <td>5.717028</td>\n",
       "      <td>Rare_var</td>\n",
       "      <td>8.462103</td>\n",
       "      <td>2.917771</td>\n",
       "      <td>4.248495</td>\n",
       "      <td>0.000000</td>\n",
       "      <td>Rare_var</td>\n",
       "    </tr>\n",
       "    <tr>\n",
       "      <th>29</th>\n",
       "      <td>3.295837</td>\n",
       "      <td>1.386294</td>\n",
       "      <td>4.574711</td>\n",
       "      <td>88</td>\n",
       "      <td>7.663877</td>\n",
       "      <td>2.674149</td>\n",
       "      <td>4.262680</td>\n",
       "      <td>1.098612</td>\n",
       "      <td>Rare_var</td>\n",
       "    </tr>\n",
       "    <tr>\n",
       "      <th>...</th>\n",
       "      <td>...</td>\n",
       "      <td>...</td>\n",
       "      <td>...</td>\n",
       "      <td>...</td>\n",
       "      <td>...</td>\n",
       "      <td>...</td>\n",
       "      <td>...</td>\n",
       "      <td>...</td>\n",
       "      <td>...</td>\n",
       "    </tr>\n",
       "    <tr>\n",
       "      <th>70</th>\n",
       "      <td>2.564949</td>\n",
       "      <td>2.079442</td>\n",
       "      <td>5.991465</td>\n",
       "      <td>Rare_var</td>\n",
       "      <td>8.394347</td>\n",
       "      <td>2.525729</td>\n",
       "      <td>4.276666</td>\n",
       "      <td>0.000000</td>\n",
       "      <td>Rare_var</td>\n",
       "    </tr>\n",
       "    <tr>\n",
       "      <th>71</th>\n",
       "      <td>2.944439</td>\n",
       "      <td>1.098612</td>\n",
       "      <td>4.248495</td>\n",
       "      <td>97</td>\n",
       "      <td>7.753624</td>\n",
       "      <td>2.602690</td>\n",
       "      <td>4.276666</td>\n",
       "      <td>1.098612</td>\n",
       "      <td>Rare_var</td>\n",
       "    </tr>\n",
       "    <tr>\n",
       "      <th>72</th>\n",
       "      <td>2.708050</td>\n",
       "      <td>2.079442</td>\n",
       "      <td>5.717028</td>\n",
       "      <td>150</td>\n",
       "      <td>8.266678</td>\n",
       "      <td>2.525729</td>\n",
       "      <td>4.276666</td>\n",
       "      <td>0.000000</td>\n",
       "      <td>Rare_var</td>\n",
       "    </tr>\n",
       "    <tr>\n",
       "      <th>73</th>\n",
       "      <td>2.564949</td>\n",
       "      <td>2.079442</td>\n",
       "      <td>5.726848</td>\n",
       "      <td>130</td>\n",
       "      <td>8.318254</td>\n",
       "      <td>2.639057</td>\n",
       "      <td>4.276666</td>\n",
       "      <td>0.000000</td>\n",
       "      <td>Rare_var</td>\n",
       "    </tr>\n",
       "    <tr>\n",
       "      <th>74</th>\n",
       "      <td>2.564949</td>\n",
       "      <td>2.079442</td>\n",
       "      <td>5.710427</td>\n",
       "      <td>140</td>\n",
       "      <td>8.364974</td>\n",
       "      <td>2.772589</td>\n",
       "      <td>4.276666</td>\n",
       "      <td>0.000000</td>\n",
       "      <td>Rare_var</td>\n",
       "    </tr>\n",
       "    <tr>\n",
       "      <th>75</th>\n",
       "      <td>2.639057</td>\n",
       "      <td>2.079442</td>\n",
       "      <td>5.762051</td>\n",
       "      <td>150</td>\n",
       "      <td>8.313117</td>\n",
       "      <td>2.639057</td>\n",
       "      <td>4.276666</td>\n",
       "      <td>0.000000</td>\n",
       "      <td>Rare_var</td>\n",
       "    </tr>\n",
       "    <tr>\n",
       "      <th>76</th>\n",
       "      <td>2.890372</td>\n",
       "      <td>1.386294</td>\n",
       "      <td>4.795791</td>\n",
       "      <td>Rare_var</td>\n",
       "      <td>7.983781</td>\n",
       "      <td>2.674149</td>\n",
       "      <td>4.276666</td>\n",
       "      <td>0.693147</td>\n",
       "      <td>Rare_var</td>\n",
       "    </tr>\n",
       "    <tr>\n",
       "      <th>77</th>\n",
       "      <td>3.091042</td>\n",
       "      <td>1.386294</td>\n",
       "      <td>4.795791</td>\n",
       "      <td>76</td>\n",
       "      <td>7.828436</td>\n",
       "      <td>2.890372</td>\n",
       "      <td>4.276666</td>\n",
       "      <td>0.693147</td>\n",
       "      <td>Rare_var</td>\n",
       "    </tr>\n",
       "    <tr>\n",
       "      <th>78</th>\n",
       "      <td>3.044522</td>\n",
       "      <td>1.386294</td>\n",
       "      <td>4.787492</td>\n",
       "      <td>Rare_var</td>\n",
       "      <td>7.999343</td>\n",
       "      <td>2.970414</td>\n",
       "      <td>4.276666</td>\n",
       "      <td>0.693147</td>\n",
       "      <td>Rare_var</td>\n",
       "    </tr>\n",
       "    <tr>\n",
       "      <th>79</th>\n",
       "      <td>3.258097</td>\n",
       "      <td>1.386294</td>\n",
       "      <td>4.564348</td>\n",
       "      <td>Rare_var</td>\n",
       "      <td>7.691200</td>\n",
       "      <td>2.890372</td>\n",
       "      <td>4.276666</td>\n",
       "      <td>0.693147</td>\n",
       "      <td>Rare_var</td>\n",
       "    </tr>\n",
       "    <tr>\n",
       "      <th>80</th>\n",
       "      <td>3.091042</td>\n",
       "      <td>1.386294</td>\n",
       "      <td>4.804021</td>\n",
       "      <td>86</td>\n",
       "      <td>7.781139</td>\n",
       "      <td>2.772589</td>\n",
       "      <td>4.276666</td>\n",
       "      <td>0.000000</td>\n",
       "      <td>Rare_var</td>\n",
       "    </tr>\n",
       "    <tr>\n",
       "      <th>81</th>\n",
       "      <td>3.332205</td>\n",
       "      <td>1.386294</td>\n",
       "      <td>4.574711</td>\n",
       "      <td>92</td>\n",
       "      <td>7.735433</td>\n",
       "      <td>2.833213</td>\n",
       "      <td>4.276666</td>\n",
       "      <td>1.098612</td>\n",
       "      <td>Rare_var</td>\n",
       "    </tr>\n",
       "    <tr>\n",
       "      <th>82</th>\n",
       "      <td>3.135494</td>\n",
       "      <td>1.386294</td>\n",
       "      <td>4.787492</td>\n",
       "      <td>97</td>\n",
       "      <td>7.826443</td>\n",
       "      <td>2.674149</td>\n",
       "      <td>4.276666</td>\n",
       "      <td>1.098612</td>\n",
       "      <td>Rare_var</td>\n",
       "    </tr>\n",
       "    <tr>\n",
       "      <th>83</th>\n",
       "      <td>3.332205</td>\n",
       "      <td>1.386294</td>\n",
       "      <td>4.584967</td>\n",
       "      <td>80</td>\n",
       "      <td>7.679714</td>\n",
       "      <td>2.708050</td>\n",
       "      <td>4.276666</td>\n",
       "      <td>0.000000</td>\n",
       "      <td>Rare_var</td>\n",
       "    </tr>\n",
       "    <tr>\n",
       "      <th>84</th>\n",
       "      <td>3.295837</td>\n",
       "      <td>1.386294</td>\n",
       "      <td>4.574711</td>\n",
       "      <td>88</td>\n",
       "      <td>7.649693</td>\n",
       "      <td>2.803360</td>\n",
       "      <td>4.276666</td>\n",
       "      <td>1.098612</td>\n",
       "      <td>Rare_var</td>\n",
       "    </tr>\n",
       "    <tr>\n",
       "      <th>85</th>\n",
       "      <td>2.564949</td>\n",
       "      <td>2.079442</td>\n",
       "      <td>5.857933</td>\n",
       "      <td>175</td>\n",
       "      <td>8.318742</td>\n",
       "      <td>2.564949</td>\n",
       "      <td>4.290459</td>\n",
       "      <td>0.000000</td>\n",
       "      <td>Rare_var</td>\n",
       "    </tr>\n",
       "    <tr>\n",
       "      <th>86</th>\n",
       "      <td>2.639057</td>\n",
       "      <td>2.079442</td>\n",
       "      <td>5.717028</td>\n",
       "      <td>150</td>\n",
       "      <td>8.208492</td>\n",
       "      <td>2.442347</td>\n",
       "      <td>4.290459</td>\n",
       "      <td>0.000000</td>\n",
       "      <td>amc matador</td>\n",
       "    </tr>\n",
       "    <tr>\n",
       "      <th>87</th>\n",
       "      <td>2.564949</td>\n",
       "      <td>2.079442</td>\n",
       "      <td>5.857933</td>\n",
       "      <td>145</td>\n",
       "      <td>8.291045</td>\n",
       "      <td>2.564949</td>\n",
       "      <td>4.290459</td>\n",
       "      <td>0.000000</td>\n",
       "      <td>Rare_var</td>\n",
       "    </tr>\n",
       "    <tr>\n",
       "      <th>88</th>\n",
       "      <td>2.639057</td>\n",
       "      <td>2.079442</td>\n",
       "      <td>5.710427</td>\n",
       "      <td>Rare_var</td>\n",
       "      <td>8.304495</td>\n",
       "      <td>2.674149</td>\n",
       "      <td>4.290459</td>\n",
       "      <td>0.000000</td>\n",
       "      <td>Rare_var</td>\n",
       "    </tr>\n",
       "    <tr>\n",
       "      <th>89</th>\n",
       "      <td>2.708050</td>\n",
       "      <td>2.079442</td>\n",
       "      <td>5.762051</td>\n",
       "      <td>150</td>\n",
       "      <td>8.236685</td>\n",
       "      <td>2.525729</td>\n",
       "      <td>4.290459</td>\n",
       "      <td>0.000000</td>\n",
       "      <td>Rare_var</td>\n",
       "    </tr>\n",
       "    <tr>\n",
       "      <th>90</th>\n",
       "      <td>2.484907</td>\n",
       "      <td>2.079442</td>\n",
       "      <td>6.061457</td>\n",
       "      <td>Rare_var</td>\n",
       "      <td>8.507547</td>\n",
       "      <td>2.442347</td>\n",
       "      <td>4.290459</td>\n",
       "      <td>0.000000</td>\n",
       "      <td>Rare_var</td>\n",
       "    </tr>\n",
       "    <tr>\n",
       "      <th>91</th>\n",
       "      <td>2.564949</td>\n",
       "      <td>2.079442</td>\n",
       "      <td>5.991465</td>\n",
       "      <td>150</td>\n",
       "      <td>8.403801</td>\n",
       "      <td>2.484907</td>\n",
       "      <td>4.290459</td>\n",
       "      <td>0.000000</td>\n",
       "      <td>Rare_var</td>\n",
       "    </tr>\n",
       "    <tr>\n",
       "      <th>92</th>\n",
       "      <td>2.564949</td>\n",
       "      <td>2.079442</td>\n",
       "      <td>5.860786</td>\n",
       "      <td>Rare_var</td>\n",
       "      <td>8.380915</td>\n",
       "      <td>2.564949</td>\n",
       "      <td>4.290459</td>\n",
       "      <td>0.000000</td>\n",
       "      <td>Rare_var</td>\n",
       "    </tr>\n",
       "    <tr>\n",
       "      <th>93</th>\n",
       "      <td>2.639057</td>\n",
       "      <td>2.079442</td>\n",
       "      <td>5.762051</td>\n",
       "      <td>150</td>\n",
       "      <td>8.351611</td>\n",
       "      <td>2.674149</td>\n",
       "      <td>4.290459</td>\n",
       "      <td>0.000000</td>\n",
       "      <td>Rare_var</td>\n",
       "    </tr>\n",
       "    <tr>\n",
       "      <th>94</th>\n",
       "      <td>2.564949</td>\n",
       "      <td>2.079442</td>\n",
       "      <td>6.086775</td>\n",
       "      <td>Rare_var</td>\n",
       "      <td>8.462737</td>\n",
       "      <td>2.397895</td>\n",
       "      <td>4.290459</td>\n",
       "      <td>0.000000</td>\n",
       "      <td>Rare_var</td>\n",
       "    </tr>\n",
       "    <tr>\n",
       "      <th>95</th>\n",
       "      <td>2.484907</td>\n",
       "      <td>2.079442</td>\n",
       "      <td>6.120297</td>\n",
       "      <td>Rare_var</td>\n",
       "      <td>8.507345</td>\n",
       "      <td>2.397895</td>\n",
       "      <td>4.290459</td>\n",
       "      <td>0.000000</td>\n",
       "      <td>Rare_var</td>\n",
       "    </tr>\n",
       "    <tr>\n",
       "      <th>96</th>\n",
       "      <td>2.564949</td>\n",
       "      <td>2.079442</td>\n",
       "      <td>5.886104</td>\n",
       "      <td>175</td>\n",
       "      <td>8.248267</td>\n",
       "      <td>2.397895</td>\n",
       "      <td>4.290459</td>\n",
       "      <td>0.000000</td>\n",
       "      <td>Rare_var</td>\n",
       "    </tr>\n",
       "    <tr>\n",
       "      <th>97</th>\n",
       "      <td>2.890372</td>\n",
       "      <td>1.791759</td>\n",
       "      <td>5.416100</td>\n",
       "      <td>105</td>\n",
       "      <td>8.045909</td>\n",
       "      <td>2.803360</td>\n",
       "      <td>4.290459</td>\n",
       "      <td>0.000000</td>\n",
       "      <td>Rare_var</td>\n",
       "    </tr>\n",
       "    <tr>\n",
       "      <th>98</th>\n",
       "      <td>2.772589</td>\n",
       "      <td>1.791759</td>\n",
       "      <td>5.521461</td>\n",
       "      <td>100</td>\n",
       "      <td>8.094989</td>\n",
       "      <td>2.890372</td>\n",
       "      <td>4.290459</td>\n",
       "      <td>0.000000</td>\n",
       "      <td>Rare_var</td>\n",
       "    </tr>\n",
       "    <tr>\n",
       "      <th>99</th>\n",
       "      <td>2.890372</td>\n",
       "      <td>1.791759</td>\n",
       "      <td>5.446737</td>\n",
       "      <td>100</td>\n",
       "      <td>7.987864</td>\n",
       "      <td>2.772589</td>\n",
       "      <td>4.290459</td>\n",
       "      <td>0.000000</td>\n",
       "      <td>amc hornet</td>\n",
       "    </tr>\n",
       "  </tbody>\n",
       "</table>\n",
       "<p>100 rows × 9 columns</p>\n",
       "</div>"
      ],
      "text/plain": [
       "         mpg  cylinders  displacement horsepower    weight  acceleration  \\\n",
       "0   2.890372   2.079442      5.726848        130  8.161660      2.484907   \n",
       "1   2.708050   2.079442      5.857933        165  8.214194      2.442347   \n",
       "2   2.890372   2.079442      5.762051        150  8.142063      2.397895   \n",
       "3   2.772589   2.079442      5.717028        150  8.141190      2.484907   \n",
       "4   2.833213   2.079442      5.710427        140  8.145840      2.351375   \n",
       "5   2.708050   2.079442      6.061457   Rare_var  8.375860      2.302585   \n",
       "6   2.639057   2.079442      6.118097   Rare_var  8.378850      2.197225   \n",
       "7   2.639057   2.079442      6.086775   Rare_var  8.369157      2.140066   \n",
       "8   2.639057   2.079442      6.120297   Rare_var  8.395026      2.302585   \n",
       "9   2.708050   2.079442      5.966147   Rare_var  8.255828      2.140066   \n",
       "10  2.708050   2.079442      5.948035        170  8.178358      2.302585   \n",
       "11  2.639057   2.079442      5.828946   Rare_var  8.191186      2.079442   \n",
       "12  2.708050   2.079442      5.991465        150  8.232440      2.251292   \n",
       "13  2.639057   2.079442      6.120297   Rare_var  8.034631      2.302585   \n",
       "14  3.178054   1.386294      4.727388         95  7.771489      2.708050   \n",
       "15  3.091042   1.791759      5.288267         95  7.949091      2.740840   \n",
       "16  2.890372   1.791759      5.293305         97  7.928046      2.740840   \n",
       "17  3.044522   1.791759      5.298317         85  7.858254      2.772589   \n",
       "18  3.295837   1.386294      4.574711         88  7.663877      2.674149   \n",
       "19  3.258097   1.386294      4.574711   Rare_var  7.514800      3.020425   \n",
       "20  3.218876   1.386294      4.700480   Rare_var  7.890583      2.862201   \n",
       "21  3.178054   1.386294      4.672829         90  7.795647      2.674149   \n",
       "22  3.218876   1.386294      4.644391         95  7.772753      2.862201   \n",
       "23  3.258097   1.386294      4.795791   Rare_var  7.711549      2.525729   \n",
       "24  3.044522   1.791759      5.293305         90  7.881560      2.708050   \n",
       "25  2.302585   2.079442      5.886104   Rare_var  8.437067      2.639057   \n",
       "26  2.302585   2.079442      5.726848   Rare_var  8.383890      2.708050   \n",
       "27  2.397895   2.079442      5.762051   Rare_var  8.385261      2.602690   \n",
       "28  2.197225   2.079442      5.717028   Rare_var  8.462103      2.917771   \n",
       "29  3.295837   1.386294      4.574711         88  7.663877      2.674149   \n",
       "..       ...        ...           ...        ...       ...           ...   \n",
       "70  2.564949   2.079442      5.991465   Rare_var  8.394347      2.525729   \n",
       "71  2.944439   1.098612      4.248495         97  7.753624      2.602690   \n",
       "72  2.708050   2.079442      5.717028        150  8.266678      2.525729   \n",
       "73  2.564949   2.079442      5.726848        130  8.318254      2.639057   \n",
       "74  2.564949   2.079442      5.710427        140  8.364974      2.772589   \n",
       "75  2.639057   2.079442      5.762051        150  8.313117      2.639057   \n",
       "76  2.890372   1.386294      4.795791   Rare_var  7.983781      2.674149   \n",
       "77  3.091042   1.386294      4.795791         76  7.828436      2.890372   \n",
       "78  3.044522   1.386294      4.787492   Rare_var  7.999343      2.970414   \n",
       "79  3.258097   1.386294      4.564348   Rare_var  7.691200      2.890372   \n",
       "80  3.091042   1.386294      4.804021         86  7.781139      2.772589   \n",
       "81  3.332205   1.386294      4.574711         92  7.735433      2.833213   \n",
       "82  3.135494   1.386294      4.787492         97  7.826443      2.674149   \n",
       "83  3.332205   1.386294      4.584967         80  7.679714      2.708050   \n",
       "84  3.295837   1.386294      4.574711         88  7.649693      2.803360   \n",
       "85  2.564949   2.079442      5.857933        175  8.318742      2.564949   \n",
       "86  2.639057   2.079442      5.717028        150  8.208492      2.442347   \n",
       "87  2.564949   2.079442      5.857933        145  8.291045      2.564949   \n",
       "88  2.639057   2.079442      5.710427   Rare_var  8.304495      2.674149   \n",
       "89  2.708050   2.079442      5.762051        150  8.236685      2.525729   \n",
       "90  2.484907   2.079442      6.061457   Rare_var  8.507547      2.442347   \n",
       "91  2.564949   2.079442      5.991465        150  8.403801      2.484907   \n",
       "92  2.564949   2.079442      5.860786   Rare_var  8.380915      2.564949   \n",
       "93  2.639057   2.079442      5.762051        150  8.351611      2.674149   \n",
       "94  2.564949   2.079442      6.086775   Rare_var  8.462737      2.397895   \n",
       "95  2.484907   2.079442      6.120297   Rare_var  8.507345      2.397895   \n",
       "96  2.564949   2.079442      5.886104        175  8.248267      2.397895   \n",
       "97  2.890372   1.791759      5.416100        105  8.045909      2.803360   \n",
       "98  2.772589   1.791759      5.521461        100  8.094989      2.890372   \n",
       "99  2.890372   1.791759      5.446737        100  7.987864      2.772589   \n",
       "\n",
       "    model year    origin          car name  \n",
       "0     4.248495  0.000000          Rare_var  \n",
       "1     4.248495  0.000000          Rare_var  \n",
       "2     4.248495  0.000000          Rare_var  \n",
       "3     4.248495  0.000000          Rare_var  \n",
       "4     4.248495  0.000000          Rare_var  \n",
       "5     4.248495  0.000000          Rare_var  \n",
       "6     4.248495  0.000000  chevrolet impala  \n",
       "7     4.248495  0.000000          Rare_var  \n",
       "8     4.248495  0.000000          Rare_var  \n",
       "9     4.248495  0.000000          Rare_var  \n",
       "10    4.248495  0.000000          Rare_var  \n",
       "11    4.248495  0.000000          Rare_var  \n",
       "12    4.248495  0.000000          Rare_var  \n",
       "13    4.248495  0.000000          Rare_var  \n",
       "14    4.248495  1.098612          Rare_var  \n",
       "15    4.248495  0.000000          Rare_var  \n",
       "16    4.248495  0.000000        amc hornet  \n",
       "17    4.248495  0.000000     ford maverick  \n",
       "18    4.248495  1.098612          Rare_var  \n",
       "19    4.248495  0.693147          Rare_var  \n",
       "20    4.248495  0.693147       peugeot 504  \n",
       "21    4.248495  0.693147          Rare_var  \n",
       "22    4.248495  0.693147          Rare_var  \n",
       "23    4.248495  0.693147          Rare_var  \n",
       "24    4.248495  0.000000       amc gremlin  \n",
       "25    4.248495  0.000000          Rare_var  \n",
       "26    4.248495  0.000000          Rare_var  \n",
       "27    4.248495  0.000000          Rare_var  \n",
       "28    4.248495  0.000000          Rare_var  \n",
       "29    4.262680  1.098612          Rare_var  \n",
       "..         ...       ...               ...  \n",
       "70    4.276666  0.000000          Rare_var  \n",
       "71    4.276666  1.098612          Rare_var  \n",
       "72    4.276666  0.000000          Rare_var  \n",
       "73    4.276666  0.000000          Rare_var  \n",
       "74    4.276666  0.000000          Rare_var  \n",
       "75    4.276666  0.000000          Rare_var  \n",
       "76    4.276666  0.693147          Rare_var  \n",
       "77    4.276666  0.693147          Rare_var  \n",
       "78    4.276666  0.693147          Rare_var  \n",
       "79    4.276666  0.693147          Rare_var  \n",
       "80    4.276666  0.000000          Rare_var  \n",
       "81    4.276666  1.098612          Rare_var  \n",
       "82    4.276666  1.098612          Rare_var  \n",
       "83    4.276666  0.000000          Rare_var  \n",
       "84    4.276666  1.098612          Rare_var  \n",
       "85    4.290459  0.000000          Rare_var  \n",
       "86    4.290459  0.000000       amc matador  \n",
       "87    4.290459  0.000000          Rare_var  \n",
       "88    4.290459  0.000000          Rare_var  \n",
       "89    4.290459  0.000000          Rare_var  \n",
       "90    4.290459  0.000000          Rare_var  \n",
       "91    4.290459  0.000000          Rare_var  \n",
       "92    4.290459  0.000000          Rare_var  \n",
       "93    4.290459  0.000000          Rare_var  \n",
       "94    4.290459  0.000000          Rare_var  \n",
       "95    4.290459  0.000000          Rare_var  \n",
       "96    4.290459  0.000000          Rare_var  \n",
       "97    4.290459  0.000000          Rare_var  \n",
       "98    4.290459  0.000000          Rare_var  \n",
       "99    4.290459  0.000000        amc hornet  \n",
       "\n",
       "[100 rows x 9 columns]"
      ]
     },
     "execution_count": 35,
     "metadata": {},
     "output_type": "execute_result"
    }
   ],
   "source": [
    "auto.head(100)"
   ]
  },
  {
   "cell_type": "code",
   "execution_count": 36,
   "metadata": {},
   "outputs": [],
   "source": [
    "for feature in categorical_feature:\n",
    "    labels_ordered=auto.groupby([feature])['mpg'].mean().sort_values().index\n",
    "    labels_ordered={k:i for i,k in enumerate(labels_ordered,0)}\n",
    "    auto[feature]=auto[feature].map(labels_ordered)"
   ]
  },
  {
   "cell_type": "code",
   "execution_count": 37,
   "metadata": {},
   "outputs": [
    {
     "data": {
      "text/html": [
       "<div>\n",
       "<style scoped>\n",
       "    .dataframe tbody tr th:only-of-type {\n",
       "        vertical-align: middle;\n",
       "    }\n",
       "\n",
       "    .dataframe tbody tr th {\n",
       "        vertical-align: top;\n",
       "    }\n",
       "\n",
       "    .dataframe thead th {\n",
       "        text-align: right;\n",
       "    }\n",
       "</style>\n",
       "<table border=\"1\" class=\"dataframe\">\n",
       "  <thead>\n",
       "    <tr style=\"text-align: right;\">\n",
       "      <th></th>\n",
       "      <th>mpg</th>\n",
       "      <th>cylinders</th>\n",
       "      <th>displacement</th>\n",
       "      <th>horsepower</th>\n",
       "      <th>weight</th>\n",
       "      <th>acceleration</th>\n",
       "      <th>model year</th>\n",
       "      <th>origin</th>\n",
       "      <th>car name</th>\n",
       "    </tr>\n",
       "  </thead>\n",
       "  <tbody>\n",
       "    <tr>\n",
       "      <th>0</th>\n",
       "      <td>2.890372</td>\n",
       "      <td>2.079442</td>\n",
       "      <td>5.726848</td>\n",
       "      <td>5</td>\n",
       "      <td>8.161660</td>\n",
       "      <td>2.484907</td>\n",
       "      <td>4.248495</td>\n",
       "      <td>0.0</td>\n",
       "      <td>5</td>\n",
       "    </tr>\n",
       "    <tr>\n",
       "      <th>1</th>\n",
       "      <td>2.708050</td>\n",
       "      <td>2.079442</td>\n",
       "      <td>5.857933</td>\n",
       "      <td>4</td>\n",
       "      <td>8.214194</td>\n",
       "      <td>2.442347</td>\n",
       "      <td>4.248495</td>\n",
       "      <td>0.0</td>\n",
       "      <td>5</td>\n",
       "    </tr>\n",
       "    <tr>\n",
       "      <th>2</th>\n",
       "      <td>2.890372</td>\n",
       "      <td>2.079442</td>\n",
       "      <td>5.762051</td>\n",
       "      <td>3</td>\n",
       "      <td>8.142063</td>\n",
       "      <td>2.397895</td>\n",
       "      <td>4.248495</td>\n",
       "      <td>0.0</td>\n",
       "      <td>5</td>\n",
       "    </tr>\n",
       "    <tr>\n",
       "      <th>3</th>\n",
       "      <td>2.772589</td>\n",
       "      <td>2.079442</td>\n",
       "      <td>5.717028</td>\n",
       "      <td>3</td>\n",
       "      <td>8.141190</td>\n",
       "      <td>2.484907</td>\n",
       "      <td>4.248495</td>\n",
       "      <td>0.0</td>\n",
       "      <td>5</td>\n",
       "    </tr>\n",
       "    <tr>\n",
       "      <th>4</th>\n",
       "      <td>2.833213</td>\n",
       "      <td>2.079442</td>\n",
       "      <td>5.710427</td>\n",
       "      <td>7</td>\n",
       "      <td>8.145840</td>\n",
       "      <td>2.351375</td>\n",
       "      <td>4.248495</td>\n",
       "      <td>0.0</td>\n",
       "      <td>5</td>\n",
       "    </tr>\n",
       "    <tr>\n",
       "      <th>5</th>\n",
       "      <td>2.708050</td>\n",
       "      <td>2.079442</td>\n",
       "      <td>6.061457</td>\n",
       "      <td>12</td>\n",
       "      <td>8.375860</td>\n",
       "      <td>2.302585</td>\n",
       "      <td>4.248495</td>\n",
       "      <td>0.0</td>\n",
       "      <td>5</td>\n",
       "    </tr>\n",
       "    <tr>\n",
       "      <th>6</th>\n",
       "      <td>2.639057</td>\n",
       "      <td>2.079442</td>\n",
       "      <td>6.118097</td>\n",
       "      <td>12</td>\n",
       "      <td>8.378850</td>\n",
       "      <td>2.197225</td>\n",
       "      <td>4.248495</td>\n",
       "      <td>0.0</td>\n",
       "      <td>0</td>\n",
       "    </tr>\n",
       "    <tr>\n",
       "      <th>7</th>\n",
       "      <td>2.639057</td>\n",
       "      <td>2.079442</td>\n",
       "      <td>6.086775</td>\n",
       "      <td>12</td>\n",
       "      <td>8.369157</td>\n",
       "      <td>2.140066</td>\n",
       "      <td>4.248495</td>\n",
       "      <td>0.0</td>\n",
       "      <td>5</td>\n",
       "    </tr>\n",
       "    <tr>\n",
       "      <th>8</th>\n",
       "      <td>2.639057</td>\n",
       "      <td>2.079442</td>\n",
       "      <td>6.120297</td>\n",
       "      <td>12</td>\n",
       "      <td>8.395026</td>\n",
       "      <td>2.302585</td>\n",
       "      <td>4.248495</td>\n",
       "      <td>0.0</td>\n",
       "      <td>5</td>\n",
       "    </tr>\n",
       "    <tr>\n",
       "      <th>9</th>\n",
       "      <td>2.708050</td>\n",
       "      <td>2.079442</td>\n",
       "      <td>5.966147</td>\n",
       "      <td>12</td>\n",
       "      <td>8.255828</td>\n",
       "      <td>2.140066</td>\n",
       "      <td>4.248495</td>\n",
       "      <td>0.0</td>\n",
       "      <td>5</td>\n",
       "    </tr>\n",
       "  </tbody>\n",
       "</table>\n",
       "</div>"
      ],
      "text/plain": [
       "        mpg  cylinders  displacement  horsepower    weight  acceleration  \\\n",
       "0  2.890372   2.079442      5.726848           5  8.161660      2.484907   \n",
       "1  2.708050   2.079442      5.857933           4  8.214194      2.442347   \n",
       "2  2.890372   2.079442      5.762051           3  8.142063      2.397895   \n",
       "3  2.772589   2.079442      5.717028           3  8.141190      2.484907   \n",
       "4  2.833213   2.079442      5.710427           7  8.145840      2.351375   \n",
       "5  2.708050   2.079442      6.061457          12  8.375860      2.302585   \n",
       "6  2.639057   2.079442      6.118097          12  8.378850      2.197225   \n",
       "7  2.639057   2.079442      6.086775          12  8.369157      2.140066   \n",
       "8  2.639057   2.079442      6.120297          12  8.395026      2.302585   \n",
       "9  2.708050   2.079442      5.966147          12  8.255828      2.140066   \n",
       "\n",
       "   model year  origin  car name  \n",
       "0    4.248495     0.0         5  \n",
       "1    4.248495     0.0         5  \n",
       "2    4.248495     0.0         5  \n",
       "3    4.248495     0.0         5  \n",
       "4    4.248495     0.0         5  \n",
       "5    4.248495     0.0         5  \n",
       "6    4.248495     0.0         0  \n",
       "7    4.248495     0.0         5  \n",
       "8    4.248495     0.0         5  \n",
       "9    4.248495     0.0         5  "
      ]
     },
     "execution_count": 37,
     "metadata": {},
     "output_type": "execute_result"
    }
   ],
   "source": [
    "auto.head(10)"
   ]
  },
  {
   "cell_type": "markdown",
   "metadata": {},
   "source": [
    "## Feature Scaling"
   ]
  },
  {
   "cell_type": "code",
   "execution_count": 38,
   "metadata": {},
   "outputs": [
    {
     "data": {
      "text/plain": [
       "MinMaxScaler(copy=True, feature_range=(0, 1))"
      ]
     },
     "execution_count": 38,
     "metadata": {},
     "output_type": "execute_result"
    }
   ],
   "source": [
    "feature_scale=[feature for feature in auto.columns if feature not in ['mpg']]\n",
    "from sklearn.preprocessing import MinMaxScaler\n",
    "scaler=MinMaxScaler()\n",
    "scaler.fit(auto[feature_scale])"
   ]
  },
  {
   "cell_type": "code",
   "execution_count": 39,
   "metadata": {},
   "outputs": [
    {
     "data": {
      "text/plain": [
       "array([[1.        , 0.79300726, 0.14285714, ..., 0.        , 0.        ,\n",
       "        0.5       ],\n",
       "       [1.        , 0.86197092, 0.11428571, ..., 0.        , 0.        ,\n",
       "        0.5       ],\n",
       "       [1.        , 0.81152779, 0.08571429, ..., 0.        , 0.        ,\n",
       "        0.5       ],\n",
       "       ...,\n",
       "       [0.29330495, 0.36078008, 0.8       , ..., 1.        , 0.        ,\n",
       "        0.5       ],\n",
       "       [0.29330495, 0.29881477, 0.34285714, ..., 1.        , 0.        ,\n",
       "        0.5       ],\n",
       "       [0.29330495, 0.29441226, 0.34285714, ..., 1.        , 0.        ,\n",
       "        0.5       ]])"
      ]
     },
     "execution_count": 39,
     "metadata": {},
     "output_type": "execute_result"
    }
   ],
   "source": [
    "scaler.transform(auto[feature_scale])"
   ]
  },
  {
   "cell_type": "code",
   "execution_count": 40,
   "metadata": {},
   "outputs": [],
   "source": [
    "# transform the train and test set,and add on the mpg variables\n",
    "data=pd.concat([auto[['mpg']].reset_index(drop=True),\n",
    "               pd.DataFrame(scaler.transform(auto[feature_scale]),columns=feature_scale)],axis=1)"
   ]
  },
  {
   "cell_type": "code",
   "execution_count": 41,
   "metadata": {},
   "outputs": [
    {
     "data": {
      "text/html": [
       "<div>\n",
       "<style scoped>\n",
       "    .dataframe tbody tr th:only-of-type {\n",
       "        vertical-align: middle;\n",
       "    }\n",
       "\n",
       "    .dataframe tbody tr th {\n",
       "        vertical-align: top;\n",
       "    }\n",
       "\n",
       "    .dataframe thead th {\n",
       "        text-align: right;\n",
       "    }\n",
       "</style>\n",
       "<table border=\"1\" class=\"dataframe\">\n",
       "  <thead>\n",
       "    <tr style=\"text-align: right;\">\n",
       "      <th></th>\n",
       "      <th>mpg</th>\n",
       "      <th>cylinders</th>\n",
       "      <th>displacement</th>\n",
       "      <th>horsepower</th>\n",
       "      <th>weight</th>\n",
       "      <th>acceleration</th>\n",
       "      <th>model year</th>\n",
       "      <th>origin</th>\n",
       "      <th>car name</th>\n",
       "    </tr>\n",
       "  </thead>\n",
       "  <tbody>\n",
       "    <tr>\n",
       "      <th>0</th>\n",
       "      <td>2.890372</td>\n",
       "      <td>1.0</td>\n",
       "      <td>0.793007</td>\n",
       "      <td>0.142857</td>\n",
       "      <td>0.669403</td>\n",
       "      <td>0.358374</td>\n",
       "      <td>0.0</td>\n",
       "      <td>0.0</td>\n",
       "      <td>0.5</td>\n",
       "    </tr>\n",
       "    <tr>\n",
       "      <th>1</th>\n",
       "      <td>2.708050</td>\n",
       "      <td>1.0</td>\n",
       "      <td>0.861971</td>\n",
       "      <td>0.114286</td>\n",
       "      <td>0.714732</td>\n",
       "      <td>0.320757</td>\n",
       "      <td>0.0</td>\n",
       "      <td>0.0</td>\n",
       "      <td>0.5</td>\n",
       "    </tr>\n",
       "    <tr>\n",
       "      <th>2</th>\n",
       "      <td>2.890372</td>\n",
       "      <td>1.0</td>\n",
       "      <td>0.811528</td>\n",
       "      <td>0.085714</td>\n",
       "      <td>0.652494</td>\n",
       "      <td>0.281468</td>\n",
       "      <td>0.0</td>\n",
       "      <td>0.0</td>\n",
       "      <td>0.5</td>\n",
       "    </tr>\n",
       "    <tr>\n",
       "      <th>3</th>\n",
       "      <td>2.772589</td>\n",
       "      <td>1.0</td>\n",
       "      <td>0.787841</td>\n",
       "      <td>0.085714</td>\n",
       "      <td>0.651740</td>\n",
       "      <td>0.358374</td>\n",
       "      <td>0.0</td>\n",
       "      <td>0.0</td>\n",
       "      <td>0.5</td>\n",
       "    </tr>\n",
       "    <tr>\n",
       "      <th>4</th>\n",
       "      <td>2.833213</td>\n",
       "      <td>1.0</td>\n",
       "      <td>0.784368</td>\n",
       "      <td>0.200000</td>\n",
       "      <td>0.655752</td>\n",
       "      <td>0.240351</td>\n",
       "      <td>0.0</td>\n",
       "      <td>0.0</td>\n",
       "      <td>0.5</td>\n",
       "    </tr>\n",
       "  </tbody>\n",
       "</table>\n",
       "</div>"
      ],
      "text/plain": [
       "        mpg  cylinders  displacement  horsepower    weight  acceleration  \\\n",
       "0  2.890372        1.0      0.793007    0.142857  0.669403      0.358374   \n",
       "1  2.708050        1.0      0.861971    0.114286  0.714732      0.320757   \n",
       "2  2.890372        1.0      0.811528    0.085714  0.652494      0.281468   \n",
       "3  2.772589        1.0      0.787841    0.085714  0.651740      0.358374   \n",
       "4  2.833213        1.0      0.784368    0.200000  0.655752      0.240351   \n",
       "\n",
       "   model year  origin  car name  \n",
       "0         0.0     0.0       0.5  \n",
       "1         0.0     0.0       0.5  \n",
       "2         0.0     0.0       0.5  \n",
       "3         0.0     0.0       0.5  \n",
       "4         0.0     0.0       0.5  "
      ]
     },
     "execution_count": 41,
     "metadata": {},
     "output_type": "execute_result"
    }
   ],
   "source": [
    "data.head()"
   ]
  },
  {
   "cell_type": "markdown",
   "metadata": {},
   "source": [
    "## Feature Selection "
   ]
  },
  {
   "cell_type": "code",
   "execution_count": 42,
   "metadata": {},
   "outputs": [],
   "source": [
    "## for feature slection\n",
    "\n",
    "from sklearn.linear_model import Lasso\n",
    "from sklearn.feature_selection import SelectFromModel"
   ]
  },
  {
   "cell_type": "code",
   "execution_count": 43,
   "metadata": {},
   "outputs": [],
   "source": [
    "## Capture the dependent feature\n",
    "y=data[['mpg']]"
   ]
  },
  {
   "cell_type": "code",
   "execution_count": 44,
   "metadata": {},
   "outputs": [],
   "source": [
    "##drop dependent feature from dataset\n",
    "X=data.drop(['mpg'],axis=1)"
   ]
  },
  {
   "cell_type": "code",
   "execution_count": 45,
   "metadata": {},
   "outputs": [
    {
     "data": {
      "text/plain": [
       "SelectFromModel(estimator=Lasso(alpha=0.005, copy_X=True, fit_intercept=True,\n",
       "                                max_iter=1000, normalize=False, positive=False,\n",
       "                                precompute=False, random_state=0,\n",
       "                                selection='cyclic', tol=0.0001,\n",
       "                                warm_start=False),\n",
       "                max_features=None, norm_order=1, prefit=False, threshold=None)"
      ]
     },
     "execution_count": 45,
     "metadata": {},
     "output_type": "execute_result"
    }
   ],
   "source": [
    "### Apply feature Selection\n",
    "# first, I  specify the Lasso Regression model, and I\n",
    "# select the suitable alpha (equivalent of penalty).\n",
    "# The bigger the alpha the less features that will selected.\n",
    "\n",
    "# Then I use the selectFromModel object from sklearn,which\n",
    "# will select the feature coefficients are non-Zeor\n",
    "feature_sel_model = SelectFromModel(Lasso(alpha=0.005,random_state=0)) # remember to set the seed, the random state in this finction\n",
    "feature_sel_model.fit(X,y)"
   ]
  },
  {
   "cell_type": "code",
   "execution_count": 46,
   "metadata": {},
   "outputs": [
    {
     "data": {
      "text/plain": [
       "array([ True,  True,  True,  True, False,  True,  True, False])"
      ]
     },
     "execution_count": 46,
     "metadata": {},
     "output_type": "execute_result"
    }
   ],
   "source": [
    "feature_sel_model.get_support()"
   ]
  },
  {
   "cell_type": "code",
   "execution_count": 47,
   "metadata": {},
   "outputs": [
    {
     "name": "stdout",
     "output_type": "stream",
     "text": [
      "total features: 8\n",
      "selected features: 6\n"
     ]
    }
   ],
   "source": [
    "# let's print the number of total and selected features\n",
    "\n",
    "# this is how we can make a list of the selected features\n",
    "selected_feat = X.columns[(feature_sel_model.get_support())]\n",
    "\n",
    "# let's print some stats\n",
    "print('total features: {}'.format((X.shape[1])))\n",
    "print('selected features: {}'.format(len(selected_feat)))\n"
   ]
  },
  {
   "cell_type": "code",
   "execution_count": 48,
   "metadata": {},
   "outputs": [
    {
     "data": {
      "text/plain": [
       "Index(['cylinders', 'displacement', 'horsepower', 'weight', 'model year',\n",
       "       'origin'],\n",
       "      dtype='object')"
      ]
     },
     "execution_count": 48,
     "metadata": {},
     "output_type": "execute_result"
    }
   ],
   "source": [
    "selected_feat"
   ]
  },
  {
   "cell_type": "code",
   "execution_count": 49,
   "metadata": {},
   "outputs": [],
   "source": [
    "X=X[selected_feat]"
   ]
  },
  {
   "cell_type": "code",
   "execution_count": 50,
   "metadata": {},
   "outputs": [
    {
     "data": {
      "text/html": [
       "<div>\n",
       "<style scoped>\n",
       "    .dataframe tbody tr th:only-of-type {\n",
       "        vertical-align: middle;\n",
       "    }\n",
       "\n",
       "    .dataframe tbody tr th {\n",
       "        vertical-align: top;\n",
       "    }\n",
       "\n",
       "    .dataframe thead th {\n",
       "        text-align: right;\n",
       "    }\n",
       "</style>\n",
       "<table border=\"1\" class=\"dataframe\">\n",
       "  <thead>\n",
       "    <tr style=\"text-align: right;\">\n",
       "      <th></th>\n",
       "      <th>cylinders</th>\n",
       "      <th>displacement</th>\n",
       "      <th>horsepower</th>\n",
       "      <th>weight</th>\n",
       "      <th>model year</th>\n",
       "      <th>origin</th>\n",
       "    </tr>\n",
       "  </thead>\n",
       "  <tbody>\n",
       "    <tr>\n",
       "      <th>0</th>\n",
       "      <td>1.0</td>\n",
       "      <td>0.793007</td>\n",
       "      <td>0.142857</td>\n",
       "      <td>0.669403</td>\n",
       "      <td>0.0</td>\n",
       "      <td>0.0</td>\n",
       "    </tr>\n",
       "    <tr>\n",
       "      <th>1</th>\n",
       "      <td>1.0</td>\n",
       "      <td>0.861971</td>\n",
       "      <td>0.114286</td>\n",
       "      <td>0.714732</td>\n",
       "      <td>0.0</td>\n",
       "      <td>0.0</td>\n",
       "    </tr>\n",
       "    <tr>\n",
       "      <th>2</th>\n",
       "      <td>1.0</td>\n",
       "      <td>0.811528</td>\n",
       "      <td>0.085714</td>\n",
       "      <td>0.652494</td>\n",
       "      <td>0.0</td>\n",
       "      <td>0.0</td>\n",
       "    </tr>\n",
       "    <tr>\n",
       "      <th>3</th>\n",
       "      <td>1.0</td>\n",
       "      <td>0.787841</td>\n",
       "      <td>0.085714</td>\n",
       "      <td>0.651740</td>\n",
       "      <td>0.0</td>\n",
       "      <td>0.0</td>\n",
       "    </tr>\n",
       "    <tr>\n",
       "      <th>4</th>\n",
       "      <td>1.0</td>\n",
       "      <td>0.784368</td>\n",
       "      <td>0.200000</td>\n",
       "      <td>0.655752</td>\n",
       "      <td>0.0</td>\n",
       "      <td>0.0</td>\n",
       "    </tr>\n",
       "  </tbody>\n",
       "</table>\n",
       "</div>"
      ],
      "text/plain": [
       "   cylinders  displacement  horsepower    weight  model year  origin\n",
       "0        1.0      0.793007    0.142857  0.669403         0.0     0.0\n",
       "1        1.0      0.861971    0.114286  0.714732         0.0     0.0\n",
       "2        1.0      0.811528    0.085714  0.652494         0.0     0.0\n",
       "3        1.0      0.787841    0.085714  0.651740         0.0     0.0\n",
       "4        1.0      0.784368    0.200000  0.655752         0.0     0.0"
      ]
     },
     "execution_count": 50,
     "metadata": {},
     "output_type": "execute_result"
    }
   ],
   "source": [
    "X.head()"
   ]
  },
  {
   "cell_type": "code",
   "execution_count": 51,
   "metadata": {},
   "outputs": [],
   "source": [
    "from sklearn.model_selection import train_test_split\n",
    "X_train,X_test,y_train,y_test=train_test_split(X,y,random_state=42,test_size=0.2)"
   ]
  },
  {
   "cell_type": "code",
   "execution_count": 52,
   "metadata": {},
   "outputs": [
    {
     "data": {
      "text/plain": [
       "((318, 6), (80, 6))"
      ]
     },
     "execution_count": 52,
     "metadata": {},
     "output_type": "execute_result"
    }
   ],
   "source": [
    "X_train.shape,X_test.shape"
   ]
  },
  {
   "cell_type": "code",
   "execution_count": 53,
   "metadata": {},
   "outputs": [
    {
     "data": {
      "text/plain": [
       "((318, 1), (80, 1))"
      ]
     },
     "execution_count": 53,
     "metadata": {},
     "output_type": "execute_result"
    }
   ],
   "source": [
    "y_train.shape,y_test.shape\n"
   ]
  },
  {
   "cell_type": "code",
   "execution_count": 54,
   "metadata": {},
   "outputs": [
    {
     "data": {
      "text/plain": [
       "0.8949895119220778"
      ]
     },
     "execution_count": 54,
     "metadata": {},
     "output_type": "execute_result"
    }
   ],
   "source": [
    "from sklearn.linear_model import LinearRegression\n",
    "lr_clf = LinearRegression()\n",
    "lr_clf.fit(X_train,y_train)\n",
    "lr_clf.score(X_test,y_test)"
   ]
  },
  {
   "cell_type": "markdown",
   "metadata": {},
   "source": [
    "### Use K Fold cross validation to measure accuracy of our LinearRegression model"
   ]
  },
  {
   "cell_type": "code",
   "execution_count": 55,
   "metadata": {},
   "outputs": [
    {
     "data": {
      "text/plain": [
       "array([0.89808077, 0.88296522, 0.90113284, 0.88181418, 0.86649762])"
      ]
     },
     "execution_count": 55,
     "metadata": {},
     "output_type": "execute_result"
    }
   ],
   "source": [
    "## ShuffleSplit it use forspliting a data in equal amount\n",
    "from sklearn.model_selection import ShuffleSplit\n",
    "from sklearn.model_selection import cross_val_score\n",
    "\n",
    "cv=ShuffleSplit(n_splits=5,test_size=0.2,random_state=0)\n",
    "\n",
    "cross_val_score(LinearRegression(),X,y,cv=cv)"
   ]
  },
  {
   "cell_type": "markdown",
   "metadata": {},
   "source": [
    "#### We can see that in 5 iterations we get a score above 80% and near about 80% all the time. This is pretty good but we want to test few other algorithms for regression to see if we can get even better score. We will use GridSearchCV for this purpose"
   ]
  },
  {
   "cell_type": "code",
   "execution_count": null,
   "metadata": {},
   "outputs": [],
   "source": []
  },
  {
   "cell_type": "markdown",
   "metadata": {},
   "source": [
    "## Find best model using GridSearchCV"
   ]
  },
  {
   "cell_type": "code",
   "execution_count": 56,
   "metadata": {},
   "outputs": [
    {
     "data": {
      "text/html": [
       "<div>\n",
       "<style scoped>\n",
       "    .dataframe tbody tr th:only-of-type {\n",
       "        vertical-align: middle;\n",
       "    }\n",
       "\n",
       "    .dataframe tbody tr th {\n",
       "        vertical-align: top;\n",
       "    }\n",
       "\n",
       "    .dataframe thead th {\n",
       "        text-align: right;\n",
       "    }\n",
       "</style>\n",
       "<table border=\"1\" class=\"dataframe\">\n",
       "  <thead>\n",
       "    <tr style=\"text-align: right;\">\n",
       "      <th></th>\n",
       "      <th>model</th>\n",
       "      <th>best_score</th>\n",
       "      <th>best_params</th>\n",
       "    </tr>\n",
       "  </thead>\n",
       "  <tbody>\n",
       "    <tr>\n",
       "      <th>0</th>\n",
       "      <td>linear_regression</td>\n",
       "      <td>0.886098</td>\n",
       "      <td>{'normalize': True}</td>\n",
       "    </tr>\n",
       "    <tr>\n",
       "      <th>1</th>\n",
       "      <td>lasso</td>\n",
       "      <td>-0.007075</td>\n",
       "      <td>{'alpha': 1, 'selection': 'random'}</td>\n",
       "    </tr>\n",
       "    <tr>\n",
       "      <th>2</th>\n",
       "      <td>decision_tree</td>\n",
       "      <td>0.836753</td>\n",
       "      <td>{'criterion': 'mse', 'splitter': 'best'}</td>\n",
       "    </tr>\n",
       "  </tbody>\n",
       "</table>\n",
       "</div>"
      ],
      "text/plain": [
       "               model  best_score                               best_params\n",
       "0  linear_regression    0.886098                       {'normalize': True}\n",
       "1              lasso   -0.007075       {'alpha': 1, 'selection': 'random'}\n",
       "2      decision_tree    0.836753  {'criterion': 'mse', 'splitter': 'best'}"
      ]
     },
     "execution_count": 56,
     "metadata": {},
     "output_type": "execute_result"
    }
   ],
   "source": [
    "from sklearn.model_selection import GridSearchCV\n",
    "\n",
    "from sklearn.linear_model import Lasso\n",
    "from sklearn.tree import DecisionTreeRegressor\n",
    "\n",
    "def find_best_model_using_gridsearchcv(X,y):\n",
    "    algos = {\n",
    "        'linear_regression' : {\n",
    "            'model': LinearRegression(),\n",
    "            'params': {\n",
    "                'normalize': [True, False]\n",
    "            }\n",
    "        },\n",
    "        'lasso': {\n",
    "            'model': Lasso(),\n",
    "            'params': {\n",
    "                'alpha': [1,2],\n",
    "                'selection': ['random', 'cyclic']\n",
    "            }\n",
    "        },\n",
    "        'decision_tree': {\n",
    "            'model': DecisionTreeRegressor(),\n",
    "            'params': {\n",
    "                'criterion' : ['mse','friedman_mse'],\n",
    "                'splitter': ['best','random']\n",
    "            }\n",
    "        }\n",
    "    }\n",
    "    scores = []\n",
    "    cv = ShuffleSplit(n_splits=5, test_size=0.2, random_state=0)\n",
    "    for algo_name, config in algos.items():\n",
    "        gs =  GridSearchCV(config['model'], config['params'], cv=cv, return_train_score=False)\n",
    "        gs.fit(X,y)\n",
    "        scores.append({\n",
    "            'model': algo_name,\n",
    "            'best_score': gs.best_score_,\n",
    "            'best_params': gs.best_params_\n",
    "        })\n",
    "\n",
    "    return pd.DataFrame(scores,columns=['model','best_score','best_params'])\n",
    "\n",
    "find_best_model_using_gridsearchcv(X,y)"
   ]
  },
  {
   "cell_type": "markdown",
   "metadata": {},
   "source": [
    "#### Based on above results we can say that LinearRegression gives the best score. Hence we will use that."
   ]
  },
  {
   "cell_type": "code",
   "execution_count": null,
   "metadata": {},
   "outputs": [],
   "source": []
  },
  {
   "cell_type": "markdown",
   "metadata": {},
   "source": [
    "## Export the tested model to a pickle file"
   ]
  },
  {
   "cell_type": "code",
   "execution_count": 57,
   "metadata": {},
   "outputs": [],
   "source": [
    "import pickle\n",
    "with open('auto_mpg_model.pickle','wb') as f:\n",
    "    pickle.dump(lr_clf,f)"
   ]
  },
  {
   "cell_type": "code",
   "execution_count": null,
   "metadata": {},
   "outputs": [],
   "source": []
  },
  {
   "cell_type": "code",
   "execution_count": null,
   "metadata": {},
   "outputs": [],
   "source": []
  },
  {
   "cell_type": "code",
   "execution_count": null,
   "metadata": {},
   "outputs": [],
   "source": []
  },
  {
   "cell_type": "code",
   "execution_count": null,
   "metadata": {},
   "outputs": [],
   "source": []
  },
  {
   "cell_type": "code",
   "execution_count": null,
   "metadata": {},
   "outputs": [],
   "source": []
  },
  {
   "cell_type": "code",
   "execution_count": null,
   "metadata": {},
   "outputs": [],
   "source": []
  },
  {
   "cell_type": "code",
   "execution_count": null,
   "metadata": {},
   "outputs": [],
   "source": []
  },
  {
   "cell_type": "code",
   "execution_count": null,
   "metadata": {},
   "outputs": [],
   "source": []
  },
  {
   "cell_type": "code",
   "execution_count": null,
   "metadata": {},
   "outputs": [],
   "source": []
  },
  {
   "cell_type": "code",
   "execution_count": null,
   "metadata": {},
   "outputs": [],
   "source": []
  }
 ],
 "metadata": {
  "kernelspec": {
   "display_name": "Python 3",
   "language": "python",
   "name": "python3"
  },
  "language_info": {
   "codemirror_mode": {
    "name": "ipython",
    "version": 3
   },
   "file_extension": ".py",
   "mimetype": "text/x-python",
   "name": "python",
   "nbconvert_exporter": "python",
   "pygments_lexer": "ipython3",
   "version": "3.7.3"
  }
 },
 "nbformat": 4,
 "nbformat_minor": 2
}
